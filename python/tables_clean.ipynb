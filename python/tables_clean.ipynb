{
 "cells": [
  {
   "cell_type": "code",
   "execution_count": 29,
   "metadata": {},
   "outputs": [],
   "source": [
    "import pandas as pd\n",
    "from pathlib import Path\n",
    "import numpy as np\n",
    "\n",
    "base_dir = Path(r\"I:\\NTS\\classified builds\")"
   ]
  },
  {
   "cell_type": "code",
   "execution_count": 2,
   "metadata": {},
   "outputs": [
    {
     "name": "stderr",
     "output_type": "stream",
     "text": [
      "C:\\Users\\Predator\\AppData\\Local\\Temp\\ipykernel_6636\\4015051739.py:1: DtypeWarning: Columns (9,59) have mixed types. Specify dtype option on import or set low_memory=False.\n",
      "  v10 = pd.read_csv(base_dir / \"cb_tfn_v10.csv\")\n"
     ]
    }
   ],
   "source": [
    "v10 = pd.read_csv(base_dir / \"cb_tfn_v10.csv\")"
   ]
  },
  {
   "cell_type": "code",
   "execution_count": 4,
   "metadata": {},
   "outputs": [
    {
     "data": {
      "text/plain": [
       "Index(['PSUID', 'PSUPSect', 'PSUPopDensity', 'PSUAreaType1_B01ID',\n",
       "       'PSUAreaType2_B01ID', 'PSUGOR_B02ID', 'PSUCounty_B01ID', 'SurveyYear',\n",
       "       'HouseholdID', 'HHoldOSWard_B01ID', 'HHoldOSLAUA_B01ID',\n",
       "       'HHoldCounty_B01ID', 'HHoldGOR_B02ID', 'HHoldAreaType1_B01ID',\n",
       "       'HHoldAreaType2_B01ID', 'HHoldNumAdults', 'NumCarVan_B02ID',\n",
       "       'NumCarVan', 'W1', 'W2', 'W3', 'IndividualID', 'Age_B01ID', 'Sex_B01ID',\n",
       "       'XSOC2000_B02ID', 'NSSec_B03ID', 'SIC2007_B02ID', 'CarAccess_B01ID',\n",
       "       'DrivLic_B02ID', 'EcoStat_B01ID', 'EcoStat_B02ID', 'DayID', 'TravDay',\n",
       "       'TravelWeekDay_B01ID', 'TravelWeekDay_B02ID', 'TripID', 'JJXSC',\n",
       "       'JOTXSC', 'JTTXSC', 'JD', 'MainMode_B03ID', 'MainMode_B04ID',\n",
       "       'MainMode_B11ID', 'TripPurpFrom_B01ID', 'TripPurpTo_B01ID',\n",
       "       'TripStart_B01ID', 'TripEnd_B01ID', 'TripDisIncSW',\n",
       "       'TripDisIncSW_B01ID', 'TripTravTime', 'TripOrigCounty_B01ID',\n",
       "       'TripDestCounty_B01ID', 'TripDestUA2009_B01ID', 'TripOrigUA2009_B01ID',\n",
       "       'W5', 'W5xHH', 'TripPurpose_B01ID', 'TripOrigGOR_B02ID',\n",
       "       'TripDestGOR_B02ID', 'TripOrigNTMZonTy_B01ID', 'TripOrigUA1998_B01ID',\n",
       "       'TripDestUA1998_B01ID', 'ns', 'trip_group', 'trip_direction',\n",
       "       'trip_purpose', 'occupant', 'gender', 'aws', 'hh_type', 'main_mode',\n",
       "       'start_time', 'end_time', 'sw_weight', 'is_north', 'soc', 'tfn_at',\n",
       "       'tfn_tt', 'ntem_tt', 'p', 'weighted_trips', 'dist_bins'],\n",
       "      dtype='object')"
      ]
     },
     "execution_count": 4,
     "metadata": {},
     "output_type": "execute_result"
    }
   ],
   "source": [
    "v10.columns"
   ]
  },
  {
   "cell_type": "code",
   "execution_count": 64,
   "metadata": {},
   "outputs": [],
   "source": [
    "edges = [0, 10, 25, 50, 100, 200, 1000]\n",
    "labels = ['0-10', '10-25','25-50','50-100','100-200','200+']\n",
    "v10['dist_bins'] = pd.cut(v10.TripDisIncSW, bins=edges, labels=labels)"
   ]
  },
  {
   "cell_type": "code",
   "execution_count": 65,
   "metadata": {},
   "outputs": [],
   "source": [
    "modes = {1: 'Walk',\n",
    "  2: 'Cycle',\n",
    "  3: 'Car Driver',\n",
    "  4: 'Car Passenger',\n",
    "  5: 'Bus',\n",
    "  6: 'rail',\n",
    "  8: 'Air'}"
   ]
  },
  {
   "cell_type": "code",
   "execution_count": 35,
   "metadata": {},
   "outputs": [],
   "source": [
    "purposes = {1: 'Commute',\n",
    "  2: 'Business',\n",
    "  3: 'Education',\n",
    "  4: 'Shopping',\n",
    "  5: 'PB',\n",
    "  6: 'Social',\n",
    "  7: 'Visit Friends',\n",
    "  8: 'Holiday - Day trip',\n",
    "  11: 'Escort commute',\n",
    "  12: 'Escort business',\n",
    "  13: 'Escort education',\n",
    "  14: 'Escort shopping'}"
   ]
  },
  {
   "cell_type": "code",
   "execution_count": 38,
   "metadata": {},
   "outputs": [],
   "source": [
    "area_types = {1: 'Inner London',\n",
    "  2: 'Outer London',\n",
    "  3: 'Metropolitan built-up',\n",
    "  4: 'Urban Big ( > 250k population)',\n",
    "  5: 'Urban Large (100k to 250k population)',\n",
    "  6: 'Urban Medium (25k to 100k population)',\n",
    "  7: 'Small Urban ( < 25k)',\n",
    "  8: 'Rural'}"
   ]
  },
  {
   "cell_type": "code",
   "execution_count": 39,
   "metadata": {},
   "outputs": [],
   "source": [
    "other_dic = {0.0: 'other',\n",
    " 'Shopping': 'other',\n",
    " 'Social': 'other',\n",
    " 'Visit Friends': 'other',\n",
    " 'Holiday - Day trip': 'other',\n",
    " 'Escort commute': 'other',\n",
    " 'Escort business': 'other',\n",
    " 'Escort shopping': 'other'}"
   ]
  },
  {
   "cell_type": "code",
   "execution_count": 40,
   "metadata": {},
   "outputs": [],
   "source": [
    "v10 = v10.set_index('tfn_at').rename(index=area_types).reset_index()\n",
    "v10 = v10.set_index('trip_purpose').rename(index=purposes).reset_index()\n",
    "v10 = v10.set_index('main_mode').rename(index=modes).reset_index()\n"
   ]
  },
  {
   "cell_type": "code",
   "execution_count": 42,
   "metadata": {},
   "outputs": [],
   "source": [
    "v10 = v10.set_index('trip_purpose').rename(index=other_dic).reset_index()"
   ]
  },
  {
   "cell_type": "code",
   "execution_count": 66,
   "metadata": {},
   "outputs": [
    {
     "name": "stderr",
     "output_type": "stream",
     "text": [
      "C:\\Users\\Predator\\AppData\\Local\\Temp\\ipykernel_6636\\3153417575.py:1: FutureWarning: The default value of numeric_only in DataFrameGroupBy.sum is deprecated. In a future version, numeric_only will default to False. Either specify numeric_only or select only columns which should be valid for the function.\n",
      "  table_1 = v10.groupby(['tfn_at','trip_purpose','dist_bins','main_mode']).sum()['weighted_trips']\n"
     ]
    }
   ],
   "source": [
    "table_1 = v10.groupby(['tfn_at','trip_purpose','dist_bins','main_mode']).sum()['weighted_trips']"
   ]
  },
  {
   "cell_type": "code",
   "execution_count": 67,
   "metadata": {},
   "outputs": [
    {
     "name": "stderr",
     "output_type": "stream",
     "text": [
      "C:\\Users\\Predator\\AppData\\Local\\Temp\\ipykernel_6636\\3363942408.py:1: FutureWarning: The default value of numeric_only in DataFrameGroupBy.sum is deprecated. In a future version, numeric_only will default to False. Either specify numeric_only or select only columns which should be valid for the function.\n",
      "  table_2 =v10[v10['main_mode'].str.contains('Car', na=False)].groupby(['tfn_at','trip_purpose','dist_bins','occupant']).sum()['weighted_trips'].unstack()\n"
     ]
    }
   ],
   "source": [
    "table_2 =v10[v10['main_mode'].str.contains('Car', na=False)].groupby(['tfn_at','trip_purpose','dist_bins','occupant']).sum()['weighted_trips'].unstack()"
   ]
  },
  {
   "cell_type": "code",
   "execution_count": 71,
   "metadata": {},
   "outputs": [],
   "source": [
    "table_2['occupants'] = (table_2['driver'] + table_2['passenger']) / table_2['driver']"
   ]
  },
  {
   "cell_type": "code",
   "execution_count": 73,
   "metadata": {},
   "outputs": [],
   "source": [
    "table_2.to_csv(r\"I:\\NTS\\outputs\\city_science_tables\\table_2_v2.csv\")"
   ]
  },
  {
   "cell_type": "code",
   "execution_count": 74,
   "metadata": {},
   "outputs": [],
   "source": [
    "table_1.to_csv(r\"I:\\NTS\\outputs\\city_science_tables\\table_1_v2.csv\")"
   ]
  }
 ],
 "metadata": {
  "kernelspec": {
   "display_name": "misc",
   "language": "python",
   "name": "python3"
  },
  "language_info": {
   "codemirror_mode": {
    "name": "ipython",
    "version": 3
   },
   "file_extension": ".py",
   "mimetype": "text/x-python",
   "name": "python",
   "nbconvert_exporter": "python",
   "pygments_lexer": "ipython3",
   "version": "3.10.9"
  },
  "orig_nbformat": 4
 },
 "nbformat": 4,
 "nbformat_minor": 2
}
