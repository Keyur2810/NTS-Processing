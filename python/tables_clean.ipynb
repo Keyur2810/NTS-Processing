{
 "cells": [
  {
   "cell_type": "code",
   "execution_count": 1,
   "metadata": {},
   "outputs": [],
   "source": [
    "import pandas as pd\n",
    "from pathlib import Path\n",
    "\n",
    "base_dir = Path(r\"I:\\NTS\\classified builds\")"
   ]
  },
  {
   "cell_type": "code",
   "execution_count": 2,
   "metadata": {},
   "outputs": [],
   "source": [
    "v10 = pd.read_csv(base_dir / \"cb_tfn_v10.csv\", low_memory=False)"
   ]
  },
  {
   "cell_type": "code",
   "execution_count": null,
   "metadata": {},
   "outputs": [],
   "source": [
    "edges = [0, 10, 25, 50, 100, 200, 1000]\n",
    "labels = ['0-10', \"'10-25\",'25-50','50-100','100-200','200+']\n",
    "v10['dist_bands'] = pd.cut(v10.TripDisIncSW, bins=edges, labels=labels)\n",
    "\n",
    "def tld(cb: pd.DataFrame, bins: list[int], group: bool = False):\n",
    "    \"\"\"\n",
    "    Reads in a classified build and bins and bins distance data\n",
    "\n",
    "    Summary\n",
    "    -------\n",
    "        cb (pd.DataFrame): A NTS classified build\n",
    "        bins (list[int]): a list of ints for distance bins\n",
    "        group (bool, optional): Whether or not to group the output by the bins and\n",
    "            sum weighted trips.\n",
    "\n",
    "    Returns:\n",
    "        pd.DataFrame: Either the input df with a dist_bins column, or grouped for tlds\n",
    "    \"\"\"\n",
    "    labels = [f\"{edges[i]}-{edges[i+1]}\" for i in range(len(edges) - 1)]\n",
    "    cb['dist_bands'] = pd.cut(cb.TripDisIncSW, bins=bins, labels=labels)\n",
    "    if group:\n",
    "        return cb.groupby('dist_bands')['weighted_trips'].sum()\n",
    "    return cb"
   ]
  },
  {
   "cell_type": "code",
   "execution_count": 9,
   "metadata": {},
   "outputs": [],
   "source": [
    "oa_at = pd.read_csv(r\"I:\\NTS\\area type from postcode\\oa_to_at_lookup.csv\", index_col=0)\n",
    "ps_to_oa = pd.read_csv(r\"I:\\NorMITs Land Use\\import\\postcode_sector_to_oa.csv\", index_col=0)"
   ]
  },
  {
   "cell_type": "code",
   "execution_count": 3,
   "metadata": {},
   "outputs": [
    {
     "data": {
      "text/plain": [
       "main_mode\n",
       "1    1.527970e+06\n",
       "2    9.674463e+04\n",
       "3    3.838119e+06\n",
       "4    9.799986e+04\n",
       "5    4.161575e+05\n",
       "6    1.105870e+05\n",
       "7    6.829839e+04\n",
       "8    8.867291e+02\n",
       "Name: weighted_trips, dtype: float64"
      ]
     },
     "execution_count": 3,
     "metadata": {},
     "output_type": "execute_result"
    }
   ],
   "source": [
    "v10.groupby('main_mode')['weighted_trips'].sum()"
   ]
  },
  {
   "cell_type": "code",
   "execution_count": 5,
   "metadata": {},
   "outputs": [
    {
     "data": {
      "text/plain": [
       "304945"
      ]
     },
     "execution_count": 5,
     "metadata": {},
     "output_type": "execute_result"
    }
   ],
   "source": [
    "v10.IndividualID.nunique()"
   ]
  },
  {
   "cell_type": "code",
   "execution_count": 7,
   "metadata": {},
   "outputs": [
    {
     "data": {
      "text/plain": [
       "Index(['PSUID', 'PSUPSect', 'PSUPopDensity', 'PSUAreaType1_B01ID',\n",
       "       'PSUAreaType2_B01ID', 'PSUGOR_B02ID', 'PSUCounty_B01ID', 'SurveyYear',\n",
       "       'HouseholdID', 'HHoldOSWard_B01ID', 'HHoldOSLAUA_B01ID',\n",
       "       'HHoldCounty_B01ID', 'HHoldGOR_B02ID', 'HHoldAreaType1_B01ID',\n",
       "       'HHoldAreaType2_B01ID', 'HHoldNumAdults', 'NumCarVan_B02ID',\n",
       "       'NumCarVan', 'W1', 'W2', 'W3', 'IndividualID', 'Age_B01ID', 'Sex_B01ID',\n",
       "       'XSOC2000_B02ID', 'NSSec_B03ID', 'SIC2007_B02ID', 'CarAccess_B01ID',\n",
       "       'DrivLic_B02ID', 'EcoStat_B01ID', 'EcoStat_B02ID', 'DayID', 'TravDay',\n",
       "       'TravelWeekDay_B01ID', 'TravelWeekDay_B02ID', 'TripID', 'JJXSC',\n",
       "       'JOTXSC', 'JTTXSC', 'JD', 'MainMode_B03ID', 'MainMode_B04ID',\n",
       "       'MainMode_B11ID', 'TripPurpFrom_B01ID', 'TripPurpTo_B01ID',\n",
       "       'TripStart_B01ID', 'TripEnd_B01ID', 'TripDisIncSW',\n",
       "       'TripDisIncSW_B01ID', 'TripTravTime', 'TripOrigCounty_B01ID',\n",
       "       'TripDestCounty_B01ID', 'TripDestUA2009_B01ID', 'TripOrigUA2009_B01ID',\n",
       "       'W5', 'W5xHH', 'TripPurpose_B01ID', 'TripOrigGOR_B02ID',\n",
       "       'TripDestGOR_B02ID', 'TripOrigNTMZonTy_B01ID', 'TripOrigUA1998_B01ID',\n",
       "       'TripDestUA1998_B01ID', 'ns', 'trip_group', 'trip_direction',\n",
       "       'trip_purpose', 'occupant', 'gender', 'aws', 'hh_type', 'main_mode',\n",
       "       'start_time', 'end_time', 'sw_weight', 'is_north', 'soc', 'tfn_at',\n",
       "       'tfn_tt', 'ntem_tt', 'p', 'weighted_trips'],\n",
       "      dtype='object')"
      ]
     },
     "execution_count": 7,
     "metadata": {},
     "output_type": "execute_result"
    }
   ],
   "source": [
    "v10.columns"
   ]
  },
  {
   "cell_type": "code",
   "execution_count": 10,
   "metadata": {},
   "outputs": [],
   "source": [
    "ps_to_oa.set_index('OA11CD', inplace=True)"
   ]
  },
  {
   "cell_type": "code",
   "execution_count": 11,
   "metadata": {},
   "outputs": [],
   "source": [
    "group_1 = oa_at.groupby(['oa_id', 'msoa_at_id']).sum()['oa_to_msoa_at']\n",
    "group_2 = group_1.reset_index().groupby('oa_id').max()"
   ]
  },
  {
   "cell_type": "code",
   "execution_count": 12,
   "metadata": {},
   "outputs": [],
   "source": [
    "df = ps_to_oa.join(group_2)"
   ]
  },
  {
   "cell_type": "code",
   "execution_count": 13,
   "metadata": {},
   "outputs": [],
   "source": [
    "new = df.groupby(['PCDS11CD', 'msoa_at_id']).count()"
   ]
  },
  {
   "cell_type": "code",
   "execution_count": 67,
   "metadata": {},
   "outputs": [],
   "source": [
    "new.to_csv(r\"I:\\NTS\\lookups\\PC_to_at.csv\")"
   ]
  },
  {
   "cell_type": "code",
   "execution_count": 14,
   "metadata": {},
   "outputs": [
    {
     "data": {
      "text/html": [
       "<div>\n",
       "<style scoped>\n",
       "    .dataframe tbody tr th:only-of-type {\n",
       "        vertical-align: middle;\n",
       "    }\n",
       "\n",
       "    .dataframe tbody tr th {\n",
       "        vertical-align: top;\n",
       "    }\n",
       "\n",
       "    .dataframe thead th {\n",
       "        text-align: right;\n",
       "    }\n",
       "</style>\n",
       "<table border=\"1\" class=\"dataframe\">\n",
       "  <thead>\n",
       "    <tr style=\"text-align: right;\">\n",
       "      <th></th>\n",
       "      <th>msoa_at_id</th>\n",
       "      <th>MSOA11CD</th>\n",
       "      <th>TFN_AT</th>\n",
       "      <th>oa_to_msoa_at</th>\n",
       "    </tr>\n",
       "    <tr>\n",
       "      <th>PCDS11CD</th>\n",
       "      <th></th>\n",
       "      <th></th>\n",
       "      <th></th>\n",
       "      <th></th>\n",
       "    </tr>\n",
       "  </thead>\n",
       "  <tbody>\n",
       "    <tr>\n",
       "      <th>AL1 1</th>\n",
       "      <td>Urban Large (within urban area with pop 100-250k)</td>\n",
       "      <td>0</td>\n",
       "      <td>0</td>\n",
       "      <td>18</td>\n",
       "    </tr>\n",
       "    <tr>\n",
       "      <th>AL1 2</th>\n",
       "      <td>Urban Large (within urban area with pop 100-250k)</td>\n",
       "      <td>0</td>\n",
       "      <td>0</td>\n",
       "      <td>20</td>\n",
       "    </tr>\n",
       "    <tr>\n",
       "      <th>AL1 3</th>\n",
       "      <td>Urban Large (within urban area with pop 100-250k)</td>\n",
       "      <td>0</td>\n",
       "      <td>0</td>\n",
       "      <td>14</td>\n",
       "    </tr>\n",
       "    <tr>\n",
       "      <th>AL1 4</th>\n",
       "      <td>Urban Large (within urban area with pop 100-250k)</td>\n",
       "      <td>0</td>\n",
       "      <td>0</td>\n",
       "      <td>27</td>\n",
       "    </tr>\n",
       "    <tr>\n",
       "      <th>AL1 5</th>\n",
       "      <td>Urban Large (within urban area with pop 100-250k)</td>\n",
       "      <td>0</td>\n",
       "      <td>0</td>\n",
       "      <td>30</td>\n",
       "    </tr>\n",
       "    <tr>\n",
       "      <th>...</th>\n",
       "      <td>...</td>\n",
       "      <td>...</td>\n",
       "      <td>...</td>\n",
       "      <td>...</td>\n",
       "    </tr>\n",
       "    <tr>\n",
       "      <th>YO8 4</th>\n",
       "      <td>Urban Medium (within urban area with pop 25-100k)</td>\n",
       "      <td>0</td>\n",
       "      <td>0</td>\n",
       "      <td>25</td>\n",
       "    </tr>\n",
       "    <tr>\n",
       "      <th>YO8 5</th>\n",
       "      <td>Urban Medium (within urban area with pop 25-100k)</td>\n",
       "      <td>0</td>\n",
       "      <td>0</td>\n",
       "      <td>14</td>\n",
       "    </tr>\n",
       "    <tr>\n",
       "      <th>YO8 6</th>\n",
       "      <td>Rural village and dispersed</td>\n",
       "      <td>0</td>\n",
       "      <td>0</td>\n",
       "      <td>10</td>\n",
       "    </tr>\n",
       "    <tr>\n",
       "      <th>YO8 8</th>\n",
       "      <td>Urban Medium (within urban area with pop 25-100k)</td>\n",
       "      <td>0</td>\n",
       "      <td>0</td>\n",
       "      <td>14</td>\n",
       "    </tr>\n",
       "    <tr>\n",
       "      <th>YO8 9</th>\n",
       "      <td>Urban Medium (within urban area with pop 25-100k)</td>\n",
       "      <td>0</td>\n",
       "      <td>0</td>\n",
       "      <td>20</td>\n",
       "    </tr>\n",
       "  </tbody>\n",
       "</table>\n",
       "<p>8035 rows × 4 columns</p>\n",
       "</div>"
      ],
      "text/plain": [
       "                                                 msoa_at_id  MSOA11CD  TFN_AT  \\\n",
       "PCDS11CD                                                                        \n",
       "AL1 1     Urban Large (within urban area with pop 100-250k)         0       0   \n",
       "AL1 2     Urban Large (within urban area with pop 100-250k)         0       0   \n",
       "AL1 3     Urban Large (within urban area with pop 100-250k)         0       0   \n",
       "AL1 4     Urban Large (within urban area with pop 100-250k)         0       0   \n",
       "AL1 5     Urban Large (within urban area with pop 100-250k)         0       0   \n",
       "...                                                     ...       ...     ...   \n",
       "YO8 4     Urban Medium (within urban area with pop 25-100k)         0       0   \n",
       "YO8 5     Urban Medium (within urban area with pop 25-100k)         0       0   \n",
       "YO8 6                           Rural village and dispersed         0       0   \n",
       "YO8 8     Urban Medium (within urban area with pop 25-100k)         0       0   \n",
       "YO8 9     Urban Medium (within urban area with pop 25-100k)         0       0   \n",
       "\n",
       "          oa_to_msoa_at  \n",
       "PCDS11CD                 \n",
       "AL1 1                18  \n",
       "AL1 2                20  \n",
       "AL1 3                14  \n",
       "AL1 4                27  \n",
       "AL1 5                30  \n",
       "...                 ...  \n",
       "YO8 4                25  \n",
       "YO8 5                14  \n",
       "YO8 6                10  \n",
       "YO8 8                14  \n",
       "YO8 9                20  \n",
       "\n",
       "[8035 rows x 4 columns]"
      ]
     },
     "execution_count": 14,
     "metadata": {},
     "output_type": "execute_result"
    }
   ],
   "source": [
    "new.reset_index().groupby('PCDS11CD').max()"
   ]
  },
  {
   "cell_type": "code",
   "execution_count": 3,
   "metadata": {},
   "outputs": [
    {
     "data": {
      "text/plain": [
       "Index(['PSUID', 'PSUPSect', 'PSUPopDensity', 'PSUAreaType1_B01ID',\n",
       "       'PSUAreaType2_B01ID', 'PSUGOR_B02ID', 'PSUCounty_B01ID', 'SurveyYear',\n",
       "       'HouseholdID', 'HHoldOSWard_B01ID', 'HHoldOSLAUA_B01ID',\n",
       "       'HHoldCounty_B01ID', 'HHoldGOR_B02ID', 'HHoldAreaType1_B01ID',\n",
       "       'HHoldAreaType2_B01ID', 'HHoldNumAdults', 'NumCarVan_B02ID',\n",
       "       'NumCarVan', 'W1', 'W2', 'W3', 'IndividualID', 'Age_B01ID', 'Sex_B01ID',\n",
       "       'XSOC2000_B02ID', 'NSSec_B03ID', 'SIC2007_B02ID', 'CarAccess_B01ID',\n",
       "       'DrivLic_B02ID', 'EcoStat_B01ID', 'EcoStat_B02ID', 'DayID', 'TravDay',\n",
       "       'TravelWeekDay_B01ID', 'TravelWeekDay_B02ID', 'TripID', 'JJXSC',\n",
       "       'JOTXSC', 'JTTXSC', 'JD', 'MainMode_B03ID', 'MainMode_B04ID',\n",
       "       'MainMode_B11ID', 'TripPurpFrom_B01ID', 'TripPurpTo_B01ID',\n",
       "       'TripStart_B01ID', 'TripEnd_B01ID', 'TripDisIncSW',\n",
       "       'TripDisIncSW_B01ID', 'TripTravTime', 'TripOrigCounty_B01ID',\n",
       "       'TripDestCounty_B01ID', 'TripDestUA2009_B01ID', 'TripOrigUA2009_B01ID',\n",
       "       'W5', 'W5xHH', 'TripPurpose_B01ID', 'TripOrigGOR_B02ID',\n",
       "       'TripDestGOR_B02ID', 'TripOrigNTMZonTy_B01ID', 'TripOrigUA1998_B01ID',\n",
       "       'TripDestUA1998_B01ID', 'ns', 'trip_group', 'trip_direction',\n",
       "       'trip_purpose', 'occupant', 'gender', 'aws', 'hh_type', 'main_mode',\n",
       "       'start_time', 'end_time', 'sw_weight', 'is_north', 'soc', 'tfn_at',\n",
       "       'tfn_tt', 'ntem_tt', 'p', 'weighted_trips'],\n",
       "      dtype='object')"
      ]
     },
     "execution_count": 3,
     "metadata": {},
     "output_type": "execute_result"
    }
   ],
   "source": [
    "v10.columns"
   ]
  },
  {
   "cell_type": "code",
   "execution_count": 5,
   "metadata": {},
   "outputs": [],
   "source": [
    "edges = [0, 10, 25, 50, 100, 200, 1000]\n",
    "labels = ['0-10', \"'10-25\",'25-50','50-100','100-200','200+']\n",
    "v10['dist_bands'] = pd.cut(v10.TripDisIncSW, bins=edges, labels=labels)\n",
    "\n",
    "def tld(cb: pd.DataFrame, bins: list[int], group: bool = False):\n",
    "    \"\"\"\n",
    "    Reads in a classified build and bins and bins distance data\n",
    "\n",
    "    Summary\n",
    "    -------\n",
    "        cb (pd.DataFrame): A NTS classified build\n",
    "        bins (list[int]): a list of ints for distance bins\n",
    "        group (bool, optional): Whether or not to group the output by the bins and\n",
    "            sum weighted trips.\n",
    "\n",
    "    Returns:\n",
    "        pd.DataFrame: Either the input df with a dist_bins column, or grouped for tlds\n",
    "    \"\"\"\n",
    "    labels = [f\"{edges[i]}-{edges[i+1]}\" for i in range(len(edges) - 1)]\n",
    "    cb['dist_bands'] = pd.cut(cb.TripDisIncSW, bins=bins, labels=labels)\n",
    "    if group:\n",
    "        return cb.groupby('dist_bands')['weighted_trips'].sum()\n",
    "    return cb"
   ]
  },
  {
   "cell_type": "code",
   "execution_count": 7,
   "metadata": {},
   "outputs": [
    {
     "data": {
      "text/plain": [
       "dist_bands\n",
       "0-10        5.264722e+06\n",
       "10-25       6.070076e+05\n",
       "25-50       1.725403e+05\n",
       "50-100      7.152450e+04\n",
       "100-200     3.136247e+04\n",
       "200-1000    9.606159e+03\n",
       "Name: weighted_trips, dtype: float64"
      ]
     },
     "execution_count": 7,
     "metadata": {},
     "output_type": "execute_result"
    }
   ],
   "source": [
    "tld(v10, edges, True)"
   ]
  },
  {
   "cell_type": "code",
   "execution_count": 16,
   "metadata": {},
   "outputs": [],
   "source": [
    "modes = {1: 'Walk',\n",
    "         2: 'Walk',\n",
    "         3: 'Cycle',\n",
    "         4: 'Car Driver',\n",
    "         5: 'Car Driver',\n",
    "         7: 'Car Driver',\n",
    "         9: 'Car Driver',\n",
    "         11: 'Car Driver',\n",
    "         6: 'Car Passenger',\n",
    "         8: 'Car Passenger',\n",
    "         10: 'Car Passenger',\n",
    "         20: 'Car Passenger',\n",
    "         21: 'Car Passenger',\n",
    "         12: 'Bus',\n",
    "         13: 'Bus',\n",
    "         14: 'Bus',\n",
    "         15: 'Bus',\n",
    "         22: 'Bus',\n",
    "         16: 'Rail',\n",
    "         17: 'Rail',\n",
    "         18: 'Rail',\n",
    "         19: 'Air'}"
   ]
  },
  {
   "cell_type": "code",
   "execution_count": 17,
   "metadata": {},
   "outputs": [],
   "source": [
    "purposes = {1: 'Commute',\n",
    "  2: 'Business',\n",
    "  3: 'Education',\n",
    "  4: 'Shopping',\n",
    "  5: 'PB',\n",
    "  6: 'Social',\n",
    "  7: 'Visit Friends',\n",
    "  8: 'Holiday - Day trip',\n",
    "  11: 'Commute',\n",
    "  12: 'Business',\n",
    "  13: 'Education',\n",
    "  14: 'Escort shopping'}"
   ]
  },
  {
   "cell_type": "code",
   "execution_count": 18,
   "metadata": {},
   "outputs": [],
   "source": [
    "area_types = {1: 'Urban',\n",
    "  2: 'Urban',\n",
    "  3: 'Urban',\n",
    "  4: 'Urban',\n",
    "  5: 'Urban',\n",
    "  6: 'Urban',\n",
    "  7: 'Urban',\n",
    "  8: 'Rural'}"
   ]
  },
  {
   "cell_type": "code",
   "execution_count": 19,
   "metadata": {},
   "outputs": [],
   "source": [
    "other_dic = {0.0: 'other',\n",
    " 'Shopping': 'other',\n",
    " 'Social': 'other',\n",
    " 'Visit Friends': 'other',\n",
    " 'Holiday - Day trip': 'other',\n",
    " 'Escort commute': '',\n",
    " 'Escort business': 'other',\n",
    " 'Escort shopping': 'other'}"
   ]
  },
  {
   "cell_type": "code",
   "execution_count": 25,
   "metadata": {},
   "outputs": [],
   "source": [
    "# v10['tfn_at'].replace(area_types, inplace=True)\n",
    "# v10['trip_purpose'].replace(purposes, inplace=True)\n",
    "v10['trip_purpose'].replace(other_dic, inplace=True)\n",
    "# v10['MainMode_B11ID'].replace(modes, inplace=True)"
   ]
  },
  {
   "cell_type": "code",
   "execution_count": 31,
   "metadata": {},
   "outputs": [
    {
     "data": {
      "text/plain": [
       "MainMode_B11ID\n",
       "Air              8.867291e+02\n",
       "Bus              3.848955e+05\n",
       "Car Driver       2.561140e+06\n",
       "Car Passenger    1.406241e+06\n",
       "Cycle            9.674463e+04\n",
       "Rail             1.788854e+05\n",
       "Walk             1.527970e+06\n",
       "Name: weighted_trips, dtype: float64"
      ]
     },
     "execution_count": 31,
     "metadata": {},
     "output_type": "execute_result"
    }
   ],
   "source": [
    "v10.groupby('MainMode_B11ID')['weighted_trips'].sum()"
   ]
  },
  {
   "cell_type": "code",
   "execution_count": 34,
   "metadata": {},
   "outputs": [
    {
     "data": {
      "text/plain": [
       "occupant\n",
       "driver       2.561140e+06\n",
       "passenger    1.406241e+06\n",
       "Name: weighted_trips, dtype: float64"
      ]
     },
     "execution_count": 34,
     "metadata": {},
     "output_type": "execute_result"
    }
   ],
   "source": [
    "v10[v10['MainMode_B11ID'].str.contains('Car', na=False)].groupby('occupant')['weighted_trips'].sum()"
   ]
  },
  {
   "cell_type": "code",
   "execution_count": 26,
   "metadata": {},
   "outputs": [
    {
     "name": "stderr",
     "output_type": "stream",
     "text": [
      "C:\\Users\\Predator\\AppData\\Local\\Temp\\ipykernel_2064\\4040621858.py:1: FutureWarning: The default value of numeric_only in DataFrameGroupBy.sum is deprecated. In a future version, numeric_only will default to False. Either specify numeric_only or select only columns which should be valid for the function.\n",
      "  table_1 = v10.groupby(['tfn_at','trip_purpose','dist_bands','MainMode_B11ID']).sum()['weighted_trips']\n"
     ]
    }
   ],
   "source": [
    "table_1 = v10.groupby(['tfn_at','trip_purpose','dist_bands','MainMode_B11ID']).sum()['weighted_trips']"
   ]
  },
  {
   "cell_type": "code",
   "execution_count": 27,
   "metadata": {},
   "outputs": [
    {
     "name": "stderr",
     "output_type": "stream",
     "text": [
      "C:\\Users\\Predator\\AppData\\Local\\Temp\\ipykernel_2064\\1021572206.py:1: FutureWarning: The default value of numeric_only in DataFrameGroupBy.sum is deprecated. In a future version, numeric_only will default to False. Either specify numeric_only or select only columns which should be valid for the function.\n",
      "  table_2 = v10[v10['MainMode_B11ID'].str.contains('Car', na=False)].groupby(['tfn_at','trip_purpose','dist_bands','occupant']).sum()['weighted_trips'].unstack()\n"
     ]
    }
   ],
   "source": [
    "table_2 = v10[v10['MainMode_B11ID'].str.contains('Car', na=False)].groupby(['tfn_at','trip_purpose','dist_bands','occupant']).sum()['weighted_trips'].unstack()"
   ]
  },
  {
   "cell_type": "code",
   "execution_count": 55,
   "metadata": {},
   "outputs": [
    {
     "data": {
      "text/plain": [
       "2737087     2\n",
       "2737088     2\n",
       "2737089     2\n",
       "2737090     2\n",
       "2737091     2\n",
       "           ..\n",
       "3009290    10\n",
       "3009291    10\n",
       "3009292    10\n",
       "3009293    10\n",
       "3009294    10\n",
       "Name: HHoldAreaType2_B01ID, Length: 272208, dtype: int64"
      ]
     },
     "execution_count": 55,
     "metadata": {},
     "output_type": "execute_result"
    }
   ],
   "source": [
    "v10[v10['tfn_at'].isna()]['HHoldAreaType2_B01ID']"
   ]
  },
  {
   "cell_type": "code",
   "execution_count": 52,
   "metadata": {},
   "outputs": [
    {
     "name": "stderr",
     "output_type": "stream",
     "text": [
      "C:\\Users\\Predator\\AppData\\Local\\Temp\\ipykernel_8224\\3812257388.py:1: FutureWarning: The default value of numeric_only in DataFrameGroupBy.sum is deprecated. In a future version, numeric_only will default to False. Either specify numeric_only or select only columns which should be valid for the function.\n",
      "  v10[v10['main_mode'].str.contains('Car', na=False)].groupby(['trip_purpose']).sum()['weighted_trips'].sum()\n"
     ]
    },
    {
     "data": {
      "text/plain": [
       "3923861.6367033673"
      ]
     },
     "execution_count": 52,
     "metadata": {},
     "output_type": "execute_result"
    }
   ],
   "source": [
    "v10[v10['main_mode'].str.contains('Car', na=False)].groupby(['trip_purpose']).sum()['weighted_trips'].sum()"
   ]
  },
  {
   "cell_type": "code",
   "execution_count": 29,
   "metadata": {},
   "outputs": [],
   "source": [
    "table_2['occupants'] = (table_2['driver'] + table_2['passenger']) / table_2['driver']"
   ]
  },
  {
   "cell_type": "code",
   "execution_count": 28,
   "metadata": {},
   "outputs": [
    {
     "data": {
      "text/plain": [
       "tfn_at  trip_purpose  dist_bands  MainMode_B11ID\n",
       "Rural   Business      0-10        Air                   0.000000\n",
       "                                  Bus                 144.869523\n",
       "                                  Car Driver        18172.601598\n",
       "                                  Car Passenger      1895.793023\n",
       "                                  Cycle               244.239928\n",
       "                                                        ...     \n",
       "Urban   other         200+        Car Driver         1636.400162\n",
       "                                  Car Passenger      1825.130432\n",
       "                                  Cycle                 0.000000\n",
       "                                  Rail               1014.988500\n",
       "                                  Walk                  0.000000\n",
       "Name: weighted_trips, Length: 420, dtype: float64"
      ]
     },
     "execution_count": 28,
     "metadata": {},
     "output_type": "execute_result"
    }
   ],
   "source": [
    "table_1"
   ]
  },
  {
   "cell_type": "code",
   "execution_count": 30,
   "metadata": {},
   "outputs": [
    {
     "data": {
      "text/html": [
       "<div>\n",
       "<style scoped>\n",
       "    .dataframe tbody tr th:only-of-type {\n",
       "        vertical-align: middle;\n",
       "    }\n",
       "\n",
       "    .dataframe tbody tr th {\n",
       "        vertical-align: top;\n",
       "    }\n",
       "\n",
       "    .dataframe thead th {\n",
       "        text-align: right;\n",
       "    }\n",
       "</style>\n",
       "<table border=\"1\" class=\"dataframe\">\n",
       "  <thead>\n",
       "    <tr style=\"text-align: right;\">\n",
       "      <th></th>\n",
       "      <th></th>\n",
       "      <th>occupant</th>\n",
       "      <th>driver</th>\n",
       "      <th>passenger</th>\n",
       "      <th>occupants</th>\n",
       "    </tr>\n",
       "    <tr>\n",
       "      <th>tfn_at</th>\n",
       "      <th>trip_purpose</th>\n",
       "      <th>dist_bands</th>\n",
       "      <th></th>\n",
       "      <th></th>\n",
       "      <th></th>\n",
       "    </tr>\n",
       "  </thead>\n",
       "  <tbody>\n",
       "    <tr>\n",
       "      <th rowspan=\"30\" valign=\"top\">Rural</th>\n",
       "      <th rowspan=\"6\" valign=\"top\">Business</th>\n",
       "      <th>0-10</th>\n",
       "      <td>18172.601598</td>\n",
       "      <td>1895.793023</td>\n",
       "      <td>1.104321</td>\n",
       "    </tr>\n",
       "    <tr>\n",
       "      <th>'10-25</th>\n",
       "      <td>8505.172786</td>\n",
       "      <td>707.413100</td>\n",
       "      <td>1.083174</td>\n",
       "    </tr>\n",
       "    <tr>\n",
       "      <th>25-50</th>\n",
       "      <td>4160.126014</td>\n",
       "      <td>427.378691</td>\n",
       "      <td>1.102732</td>\n",
       "    </tr>\n",
       "    <tr>\n",
       "      <th>50-100</th>\n",
       "      <td>2356.322322</td>\n",
       "      <td>208.223932</td>\n",
       "      <td>1.088368</td>\n",
       "    </tr>\n",
       "    <tr>\n",
       "      <th>100-200</th>\n",
       "      <td>1105.673602</td>\n",
       "      <td>119.104184</td>\n",
       "      <td>1.107721</td>\n",
       "    </tr>\n",
       "    <tr>\n",
       "      <th>200+</th>\n",
       "      <td>204.629008</td>\n",
       "      <td>24.783408</td>\n",
       "      <td>1.121114</td>\n",
       "    </tr>\n",
       "    <tr>\n",
       "      <th rowspan=\"6\" valign=\"top\">Commute</th>\n",
       "      <th>0-10</th>\n",
       "      <td>92142.177173</td>\n",
       "      <td>15408.501570</td>\n",
       "      <td>1.167225</td>\n",
       "    </tr>\n",
       "    <tr>\n",
       "      <th>'10-25</th>\n",
       "      <td>40199.336717</td>\n",
       "      <td>3714.041021</td>\n",
       "      <td>1.092391</td>\n",
       "    </tr>\n",
       "    <tr>\n",
       "      <th>25-50</th>\n",
       "      <td>10273.021644</td>\n",
       "      <td>854.783222</td>\n",
       "      <td>1.083207</td>\n",
       "    </tr>\n",
       "    <tr>\n",
       "      <th>50-100</th>\n",
       "      <td>2168.411925</td>\n",
       "      <td>162.376299</td>\n",
       "      <td>1.074883</td>\n",
       "    </tr>\n",
       "    <tr>\n",
       "      <th>100-200</th>\n",
       "      <td>251.972257</td>\n",
       "      <td>30.527844</td>\n",
       "      <td>1.121156</td>\n",
       "    </tr>\n",
       "    <tr>\n",
       "      <th>200+</th>\n",
       "      <td>30.398667</td>\n",
       "      <td>0.955308</td>\n",
       "      <td>1.031426</td>\n",
       "    </tr>\n",
       "    <tr>\n",
       "      <th rowspan=\"6\" valign=\"top\">Education</th>\n",
       "      <th>0-10</th>\n",
       "      <td>31259.424048</td>\n",
       "      <td>27468.490296</td>\n",
       "      <td>1.878727</td>\n",
       "    </tr>\n",
       "    <tr>\n",
       "      <th>'10-25</th>\n",
       "      <td>4274.582452</td>\n",
       "      <td>2447.265442</td>\n",
       "      <td>1.572516</td>\n",
       "    </tr>\n",
       "    <tr>\n",
       "      <th>25-50</th>\n",
       "      <td>765.881114</td>\n",
       "      <td>223.976977</td>\n",
       "      <td>1.292444</td>\n",
       "    </tr>\n",
       "    <tr>\n",
       "      <th>50-100</th>\n",
       "      <td>192.743239</td>\n",
       "      <td>45.999109</td>\n",
       "      <td>1.238655</td>\n",
       "    </tr>\n",
       "    <tr>\n",
       "      <th>100-200</th>\n",
       "      <td>72.413094</td>\n",
       "      <td>21.415710</td>\n",
       "      <td>1.295744</td>\n",
       "    </tr>\n",
       "    <tr>\n",
       "      <th>200+</th>\n",
       "      <td>9.606732</td>\n",
       "      <td>2.335720</td>\n",
       "      <td>1.243134</td>\n",
       "    </tr>\n",
       "    <tr>\n",
       "      <th rowspan=\"6\" valign=\"top\">PB</th>\n",
       "      <th>0-10</th>\n",
       "      <td>44212.930716</td>\n",
       "      <td>23324.977991</td>\n",
       "      <td>1.527560</td>\n",
       "    </tr>\n",
       "    <tr>\n",
       "      <th>'10-25</th>\n",
       "      <td>8345.779643</td>\n",
       "      <td>4620.374178</td>\n",
       "      <td>1.553618</td>\n",
       "    </tr>\n",
       "    <tr>\n",
       "      <th>25-50</th>\n",
       "      <td>1657.867643</td>\n",
       "      <td>984.858811</td>\n",
       "      <td>1.594052</td>\n",
       "    </tr>\n",
       "    <tr>\n",
       "      <th>50-100</th>\n",
       "      <td>437.628419</td>\n",
       "      <td>286.596931</td>\n",
       "      <td>1.654886</td>\n",
       "    </tr>\n",
       "    <tr>\n",
       "      <th>100-200</th>\n",
       "      <td>138.073230</td>\n",
       "      <td>71.046529</td>\n",
       "      <td>1.514557</td>\n",
       "    </tr>\n",
       "    <tr>\n",
       "      <th>200+</th>\n",
       "      <td>21.668671</td>\n",
       "      <td>23.259705</td>\n",
       "      <td>2.073426</td>\n",
       "    </tr>\n",
       "    <tr>\n",
       "      <th rowspan=\"6\" valign=\"top\">other</th>\n",
       "      <th>0-10</th>\n",
       "      <td>242023.723614</td>\n",
       "      <td>141603.340593</td>\n",
       "      <td>1.585080</td>\n",
       "    </tr>\n",
       "    <tr>\n",
       "      <th>'10-25</th>\n",
       "      <td>54058.980549</td>\n",
       "      <td>41129.043972</td>\n",
       "      <td>1.760818</td>\n",
       "    </tr>\n",
       "    <tr>\n",
       "      <th>25-50</th>\n",
       "      <td>12228.362681</td>\n",
       "      <td>10822.983177</td>\n",
       "      <td>1.885072</td>\n",
       "    </tr>\n",
       "    <tr>\n",
       "      <th>50-100</th>\n",
       "      <td>4918.995160</td>\n",
       "      <td>4665.215782</td>\n",
       "      <td>1.948408</td>\n",
       "    </tr>\n",
       "    <tr>\n",
       "      <th>100-200</th>\n",
       "      <td>2533.231217</td>\n",
       "      <td>2404.719983</td>\n",
       "      <td>1.949270</td>\n",
       "    </tr>\n",
       "    <tr>\n",
       "      <th>200+</th>\n",
       "      <td>603.868799</td>\n",
       "      <td>657.140061</td>\n",
       "      <td>2.088217</td>\n",
       "    </tr>\n",
       "    <tr>\n",
       "      <th rowspan=\"30\" valign=\"top\">Urban</th>\n",
       "      <th rowspan=\"6\" valign=\"top\">Business</th>\n",
       "      <th>0-10</th>\n",
       "      <td>55225.868565</td>\n",
       "      <td>7437.234427</td>\n",
       "      <td>1.134669</td>\n",
       "    </tr>\n",
       "    <tr>\n",
       "      <th>'10-25</th>\n",
       "      <td>18305.984871</td>\n",
       "      <td>2139.188785</td>\n",
       "      <td>1.116857</td>\n",
       "    </tr>\n",
       "    <tr>\n",
       "      <th>25-50</th>\n",
       "      <td>9207.615555</td>\n",
       "      <td>1025.859572</td>\n",
       "      <td>1.111414</td>\n",
       "    </tr>\n",
       "    <tr>\n",
       "      <th>50-100</th>\n",
       "      <td>5503.157489</td>\n",
       "      <td>722.243556</td>\n",
       "      <td>1.131242</td>\n",
       "    </tr>\n",
       "    <tr>\n",
       "      <th>100-200</th>\n",
       "      <td>2534.175583</td>\n",
       "      <td>347.528971</td>\n",
       "      <td>1.137137</td>\n",
       "    </tr>\n",
       "    <tr>\n",
       "      <th>200+</th>\n",
       "      <td>477.000036</td>\n",
       "      <td>79.138565</td>\n",
       "      <td>1.165909</td>\n",
       "    </tr>\n",
       "    <tr>\n",
       "      <th rowspan=\"6\" valign=\"top\">Commute</th>\n",
       "      <th>0-10</th>\n",
       "      <td>368273.885638</td>\n",
       "      <td>76539.044291</td>\n",
       "      <td>1.207832</td>\n",
       "    </tr>\n",
       "    <tr>\n",
       "      <th>'10-25</th>\n",
       "      <td>94702.358714</td>\n",
       "      <td>10477.484716</td>\n",
       "      <td>1.110636</td>\n",
       "    </tr>\n",
       "    <tr>\n",
       "      <th>25-50</th>\n",
       "      <td>24307.213229</td>\n",
       "      <td>2871.453705</td>\n",
       "      <td>1.118132</td>\n",
       "    </tr>\n",
       "    <tr>\n",
       "      <th>50-100</th>\n",
       "      <td>4685.061621</td>\n",
       "      <td>812.827786</td>\n",
       "      <td>1.173494</td>\n",
       "    </tr>\n",
       "    <tr>\n",
       "      <th>100-200</th>\n",
       "      <td>668.159554</td>\n",
       "      <td>101.583819</td>\n",
       "      <td>1.152035</td>\n",
       "    </tr>\n",
       "    <tr>\n",
       "      <th>200+</th>\n",
       "      <td>83.814739</td>\n",
       "      <td>23.212755</td>\n",
       "      <td>1.276953</td>\n",
       "    </tr>\n",
       "    <tr>\n",
       "      <th rowspan=\"6\" valign=\"top\">Education</th>\n",
       "      <th>0-10</th>\n",
       "      <td>110729.468627</td>\n",
       "      <td>114318.242882</td>\n",
       "      <td>2.032410</td>\n",
       "    </tr>\n",
       "    <tr>\n",
       "      <th>'10-25</th>\n",
       "      <td>5864.164557</td>\n",
       "      <td>3252.075237</td>\n",
       "      <td>1.554568</td>\n",
       "    </tr>\n",
       "    <tr>\n",
       "      <th>25-50</th>\n",
       "      <td>1190.118272</td>\n",
       "      <td>446.438437</td>\n",
       "      <td>1.375121</td>\n",
       "    </tr>\n",
       "    <tr>\n",
       "      <th>50-100</th>\n",
       "      <td>441.796607</td>\n",
       "      <td>185.182273</td>\n",
       "      <td>1.419157</td>\n",
       "    </tr>\n",
       "    <tr>\n",
       "      <th>100-200</th>\n",
       "      <td>202.588191</td>\n",
       "      <td>87.139509</td>\n",
       "      <td>1.430131</td>\n",
       "    </tr>\n",
       "    <tr>\n",
       "      <th>200+</th>\n",
       "      <td>34.650658</td>\n",
       "      <td>12.760580</td>\n",
       "      <td>1.368264</td>\n",
       "    </tr>\n",
       "    <tr>\n",
       "      <th rowspan=\"6\" valign=\"top\">PB</th>\n",
       "      <th>0-10</th>\n",
       "      <td>135079.018797</td>\n",
       "      <td>96178.583590</td>\n",
       "      <td>1.712017</td>\n",
       "    </tr>\n",
       "    <tr>\n",
       "      <th>'10-25</th>\n",
       "      <td>11701.811512</td>\n",
       "      <td>7820.924478</td>\n",
       "      <td>1.668352</td>\n",
       "    </tr>\n",
       "    <tr>\n",
       "      <th>25-50</th>\n",
       "      <td>2715.931566</td>\n",
       "      <td>1823.823982</td>\n",
       "      <td>1.671528</td>\n",
       "    </tr>\n",
       "    <tr>\n",
       "      <th>50-100</th>\n",
       "      <td>964.820993</td>\n",
       "      <td>839.822969</td>\n",
       "      <td>1.870444</td>\n",
       "    </tr>\n",
       "    <tr>\n",
       "      <th>100-200</th>\n",
       "      <td>371.598810</td>\n",
       "      <td>354.760214</td>\n",
       "      <td>1.954686</td>\n",
       "    </tr>\n",
       "    <tr>\n",
       "      <th>200+</th>\n",
       "      <td>77.373827</td>\n",
       "      <td>73.679423</td>\n",
       "      <td>1.952253</td>\n",
       "    </tr>\n",
       "    <tr>\n",
       "      <th rowspan=\"6\" valign=\"top\">other</th>\n",
       "      <th>0-10</th>\n",
       "      <td>831184.011826</td>\n",
       "      <td>583910.048438</td>\n",
       "      <td>1.702504</td>\n",
       "    </tr>\n",
       "    <tr>\n",
       "      <th>'10-25</th>\n",
       "      <td>92643.594168</td>\n",
       "      <td>77403.346856</td>\n",
       "      <td>1.835496</td>\n",
       "    </tr>\n",
       "    <tr>\n",
       "      <th>25-50</th>\n",
       "      <td>26707.941285</td>\n",
       "      <td>25806.210125</td>\n",
       "      <td>1.966237</td>\n",
       "    </tr>\n",
       "    <tr>\n",
       "      <th>50-100</th>\n",
       "      <td>13305.401142</td>\n",
       "      <td>13997.122989</td>\n",
       "      <td>2.051988</td>\n",
       "    </tr>\n",
       "    <tr>\n",
       "      <th>100-200</th>\n",
       "      <td>6233.503313</td>\n",
       "      <td>6743.737410</td>\n",
       "      <td>2.081854</td>\n",
       "    </tr>\n",
       "    <tr>\n",
       "      <th>200+</th>\n",
       "      <td>1636.400162</td>\n",
       "      <td>1825.130432</td>\n",
       "      <td>2.115333</td>\n",
       "    </tr>\n",
       "  </tbody>\n",
       "</table>\n",
       "</div>"
      ],
      "text/plain": [
       "occupant                               driver      passenger  occupants\n",
       "tfn_at trip_purpose dist_bands                                         \n",
       "Rural  Business     0-10         18172.601598    1895.793023   1.104321\n",
       "                    '10-25        8505.172786     707.413100   1.083174\n",
       "                    25-50         4160.126014     427.378691   1.102732\n",
       "                    50-100        2356.322322     208.223932   1.088368\n",
       "                    100-200       1105.673602     119.104184   1.107721\n",
       "                    200+           204.629008      24.783408   1.121114\n",
       "       Commute      0-10         92142.177173   15408.501570   1.167225\n",
       "                    '10-25       40199.336717    3714.041021   1.092391\n",
       "                    25-50        10273.021644     854.783222   1.083207\n",
       "                    50-100        2168.411925     162.376299   1.074883\n",
       "                    100-200        251.972257      30.527844   1.121156\n",
       "                    200+            30.398667       0.955308   1.031426\n",
       "       Education    0-10         31259.424048   27468.490296   1.878727\n",
       "                    '10-25        4274.582452    2447.265442   1.572516\n",
       "                    25-50          765.881114     223.976977   1.292444\n",
       "                    50-100         192.743239      45.999109   1.238655\n",
       "                    100-200         72.413094      21.415710   1.295744\n",
       "                    200+             9.606732       2.335720   1.243134\n",
       "       PB           0-10         44212.930716   23324.977991   1.527560\n",
       "                    '10-25        8345.779643    4620.374178   1.553618\n",
       "                    25-50         1657.867643     984.858811   1.594052\n",
       "                    50-100         437.628419     286.596931   1.654886\n",
       "                    100-200        138.073230      71.046529   1.514557\n",
       "                    200+            21.668671      23.259705   2.073426\n",
       "       other        0-10        242023.723614  141603.340593   1.585080\n",
       "                    '10-25       54058.980549   41129.043972   1.760818\n",
       "                    25-50        12228.362681   10822.983177   1.885072\n",
       "                    50-100        4918.995160    4665.215782   1.948408\n",
       "                    100-200       2533.231217    2404.719983   1.949270\n",
       "                    200+           603.868799     657.140061   2.088217\n",
       "Urban  Business     0-10         55225.868565    7437.234427   1.134669\n",
       "                    '10-25       18305.984871    2139.188785   1.116857\n",
       "                    25-50         9207.615555    1025.859572   1.111414\n",
       "                    50-100        5503.157489     722.243556   1.131242\n",
       "                    100-200       2534.175583     347.528971   1.137137\n",
       "                    200+           477.000036      79.138565   1.165909\n",
       "       Commute      0-10        368273.885638   76539.044291   1.207832\n",
       "                    '10-25       94702.358714   10477.484716   1.110636\n",
       "                    25-50        24307.213229    2871.453705   1.118132\n",
       "                    50-100        4685.061621     812.827786   1.173494\n",
       "                    100-200        668.159554     101.583819   1.152035\n",
       "                    200+            83.814739      23.212755   1.276953\n",
       "       Education    0-10        110729.468627  114318.242882   2.032410\n",
       "                    '10-25        5864.164557    3252.075237   1.554568\n",
       "                    25-50         1190.118272     446.438437   1.375121\n",
       "                    50-100         441.796607     185.182273   1.419157\n",
       "                    100-200        202.588191      87.139509   1.430131\n",
       "                    200+            34.650658      12.760580   1.368264\n",
       "       PB           0-10        135079.018797   96178.583590   1.712017\n",
       "                    '10-25       11701.811512    7820.924478   1.668352\n",
       "                    25-50         2715.931566    1823.823982   1.671528\n",
       "                    50-100         964.820993     839.822969   1.870444\n",
       "                    100-200        371.598810     354.760214   1.954686\n",
       "                    200+            77.373827      73.679423   1.952253\n",
       "       other        0-10        831184.011826  583910.048438   1.702504\n",
       "                    '10-25       92643.594168   77403.346856   1.835496\n",
       "                    25-50        26707.941285   25806.210125   1.966237\n",
       "                    50-100       13305.401142   13997.122989   2.051988\n",
       "                    100-200       6233.503313    6743.737410   2.081854\n",
       "                    200+          1636.400162    1825.130432   2.115333"
      ]
     },
     "execution_count": 30,
     "metadata": {},
     "output_type": "execute_result"
    }
   ],
   "source": [
    "table_2"
   ]
  },
  {
   "cell_type": "code",
   "execution_count": 41,
   "metadata": {},
   "outputs": [],
   "source": [
    "table_2.to_csv(r\"I:\\NTS\\outputs\\city_science_tables\\table_2_combi_edu.csv\")"
   ]
  },
  {
   "cell_type": "code",
   "execution_count": 35,
   "metadata": {},
   "outputs": [],
   "source": [
    "table_1.to_csv(r\"I:\\NTS\\outputs\\city_science_tables\\table_1_v4.csv\")"
   ]
  },
  {
   "cell_type": "code",
   "execution_count": 47,
   "metadata": {},
   "outputs": [
    {
     "data": {
      "text/plain": [
       "3704779.3967269473"
      ]
     },
     "execution_count": 47,
     "metadata": {},
     "output_type": "execute_result"
    }
   ],
   "source": [
    "table_2['driver'].sum() + table_2['passenger'].sum()"
   ]
  }
 ],
 "metadata": {
  "kernelspec": {
   "display_name": "misc",
   "language": "python",
   "name": "python3"
  },
  "language_info": {
   "codemirror_mode": {
    "name": "ipython",
    "version": 3
   },
   "file_extension": ".py",
   "mimetype": "text/x-python",
   "name": "python",
   "nbconvert_exporter": "python",
   "pygments_lexer": "ipython3",
   "version": "3.10.9"
  },
  "orig_nbformat": 4
 },
 "nbformat": 4,
 "nbformat_minor": 2
}
