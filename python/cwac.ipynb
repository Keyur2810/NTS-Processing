{
 "cells": [
  {
   "cell_type": "code",
   "execution_count": 1,
   "metadata": {},
   "outputs": [],
   "source": [
    "import pandas as pd\n",
    "from pathlib import Path\n",
    "\n",
    "base_dir = Path(r\"I:\\NTS\\classified builds\")\n",
    "output_dir = Path(r\"I:\\NTS\\outputs\\cwac tables\")"
   ]
  },
  {
   "cell_type": "code",
   "execution_count": 2,
   "metadata": {},
   "outputs": [
    {
     "name": "stderr",
     "output_type": "stream",
     "text": [
      "C:\\Users\\Predator\\AppData\\Local\\Temp\\ipykernel_11580\\539251893.py:1: DtypeWarning: Columns (10,18,39,50) have mixed types. Specify dtype option on import or set low_memory=False.\n",
      "  v12 = pd.read_csv(base_dir / \"cb_tfn_v12.csv\")\n"
     ]
    }
   ],
   "source": [
    "v12 = pd.read_csv(base_dir / \"cb_tfn_v12.csv\")"
   ]
  },
  {
   "cell_type": "code",
   "execution_count": 13,
   "metadata": {},
   "outputs": [
    {
     "data": {
      "text/plain": [
       "Index(['PSUID', 'PSUPopDensity', 'PSUAreaType1_B01ID', 'PSUAreaType2_B01ID',\n",
       "       'PSUGOR_B02ID', 'PSUCounty_B01ID', 'SurveyYear', 'HouseholdID',\n",
       "       'ONSACSub_B01ID', 'SettlementEW_B01ID', 'HHoldOSWard_B01ID',\n",
       "       'HHoldOSLAUA_B01ID', 'HHoldCounty_B01ID', 'HHoldGOR_B02ID',\n",
       "       'HHoldAreaType1_B01ID', 'HHoldAreaType2_B01ID', 'HHoldNumAdults',\n",
       "       'NumCarVan_B02ID', 'NumCarVan', 'W1', 'W2', 'W3', 'IndividualID',\n",
       "       'Age_B01ID', 'Sex_B01ID', 'XSOC2000_B02ID', 'NSSec_B03ID',\n",
       "       'SIC2007_B02ID', 'CarAccess_B01ID', 'DrivLic_B02ID', 'EcoStat_B01ID',\n",
       "       'EcoStat_B02ID', 'DayID', 'TravDay', 'TravelWeekDay_B01ID',\n",
       "       'TravelWeekDay_B02ID', 'TripID', 'JJXSC', 'JOTXSC', 'JTTXSC', 'JD',\n",
       "       'MainMode_B03ID', 'MainMode_B04ID', 'MainMode_B11ID',\n",
       "       'TripPurpFrom_B01ID', 'TripPurpTo_B01ID', 'TripStart_B01ID',\n",
       "       'TripEnd_B01ID', 'TripDisIncSW', 'TripDisIncSW_B01ID', 'TripTravTime',\n",
       "       'TripOrigCounty_B01ID', 'TripDestCounty_B01ID', 'TripDestUA2009_B01ID',\n",
       "       'TripOrigUA2009_B01ID', 'W5', 'W5xHH', 'TripPurpose_B01ID',\n",
       "       'TripOrigGOR_B02ID', 'TripDestGOR_B02ID', 'TripOrigUA1998_B01ID',\n",
       "       'TripDestUA1998_B01ID', 'ns', 'trip_group', 'trip_direction',\n",
       "       'trip_purpose', 'occupant', 'gender', 'aws', 'hh_type', 'main_mode',\n",
       "       'start_time', 'end_time', 'sw_weight', 'is_north', 'soc', 'tfn_tt',\n",
       "       'ntem_tt', 'p', 'weighted_trips'],\n",
       "      dtype='object')"
      ]
     },
     "execution_count": 13,
     "metadata": {},
     "output_type": "execute_result"
    }
   ],
   "source": [
    "v12.columns"
   ]
  },
  {
   "cell_type": "code",
   "execution_count": 3,
   "metadata": {},
   "outputs": [],
   "source": [
    "edges = [0, 10, 25, 50, 100, 200, 1000]\n",
    "labels = ['0-10', '10-25','25-50','50-100','100-200','200+']\n",
    "v12['dist_bins'] = pd.cut(v12.TripDisIncSW, bins=edges, labels=labels)"
   ]
  },
  {
   "cell_type": "code",
   "execution_count": 4,
   "metadata": {},
   "outputs": [],
   "source": [
    "#lookups\n",
    "modes = {1: 'Walk',\n",
    "  2: 'Cycle',\n",
    "  3: 'Car',\n",
    "  4: 'Van',\n",
    "  5: 'Bus',\n",
    "  6: 'Rail',\n",
    "  7: 'Light Rail',\n",
    "  8: 'Air'}\n",
    "\n",
    "purposes = {1: 'Commute',\n",
    "  2: 'Business',\n",
    "  3: 'Education',\n",
    "  4: 'Shopping',\n",
    "  5: 'PB',\n",
    "  6: 'Social',\n",
    "  7: 'Visit Friends',\n",
    "  8: 'Holiday - Day trip',\n",
    "  11: 'Escort commute',\n",
    "  12: 'Escort business',\n",
    "  13: 'Education',\n",
    "  14: 'Escort shopping'}\n",
    "\n",
    "area_dict = {1: 'Inner London',\n",
    "  2: 'Outer London built-up areas',\n",
    "  3: 'West Midlands built-up areas',\n",
    "  4: 'Greater Manchester built-up areas',\n",
    "  5: 'West Yorkshire built-up areas',\n",
    "  6: 'Glasgow built-up areas',\n",
    "  7: 'Liverpool built-up areas',\n",
    "  8: 'Tyneside built-up areas',\n",
    "  9: 'South Yorkshire built-up areas',\n",
    "  10: 'Other urban area - over 250k population',\n",
    "  11: 'Other urban area - 100k to 250k population',\n",
    "  12: 'Other urban area - 50k to 100k population',\n",
    "  13: 'Other urban area - 25k to 50k population',\n",
    "  14: 'Other urban area - 10k to 25k population',\n",
    "  15: 'Other urban area - 3k to 10k population',\n",
    "  16: 'Rural',\n",
    "  -8: 'nan',\n",
    "  -9: 'DNA'}\n",
    "\n",
    "other_dic = {0.0: 'other',\n",
    " 'Shopping': 'other',\n",
    " 'Social': 'other',\n",
    " 'Visit Friends': 'other',\n",
    " 'Holiday - Day trip': 'other',\n",
    " 'Escort commute': 'other',\n",
    " 'Escort business': 'other',\n",
    " 'Escort shopping': 'other'}"
   ]
  },
  {
   "cell_type": "code",
   "execution_count": 6,
   "metadata": {},
   "outputs": [],
   "source": [
    "v12['main_mode'].replace(modes, inplace=True)\n",
    "v12['trip_purpose'].replace(purposes, inplace=True)\n",
    "v12['trip_purpose'].replace(other_dic, inplace=True)\n",
    "v12['HHoldAreaType2_B01ID'].replace(area_dict, inplace=True)"
   ]
  },
  {
   "cell_type": "code",
   "execution_count": 7,
   "metadata": {},
   "outputs": [
    {
     "name": "stderr",
     "output_type": "stream",
     "text": [
      "C:\\Users\\Predator\\AppData\\Local\\Temp\\ipykernel_11580\\513449330.py:6: SettingWithCopyWarning: \n",
      "A value is trying to be set on a copy of a slice from a DataFrame\n",
      "\n",
      "See the caveats in the documentation: https://pandas.pydata.org/pandas-docs/stable/user_guide/indexing.html#returning-a-view-versus-a-copy\n",
      "  cwac.rename(columns = {'TripOrigUA2009_B01ID':\"Orig\", 'TripDestUA2009_B01ID':\"Dest\"}, inplace=True)\n"
     ]
    }
   ],
   "source": [
    "cwac = v12[(v12['TripOrigUA2009_B01ID'] == 154)|(v12['TripDestUA2009_B01ID'] == 154)]\n",
    "cwac.loc[cwac['TripOrigUA2009_B01ID'] != 154, 'TripOrigUA2009_B01ID'] = 'External'\n",
    "cwac.loc[cwac['TripDestUA2009_B01ID'] != 154, 'TripDestUA2009_B01ID'] = 'External'\n",
    "cwac.loc[cwac['TripDestUA2009_B01ID'] == 154, 'TripDestUA2009_B01ID'] = 'Internal'\n",
    "cwac.loc[cwac['TripOrigUA2009_B01ID'] == 154, 'TripOrigUA2009_B01ID'] = 'Internal'\n",
    "cwac.rename(columns = {'TripOrigUA2009_B01ID':\"Orig\", 'TripDestUA2009_B01ID':\"Dest\"}, inplace=True)"
   ]
  },
  {
   "cell_type": "code",
   "execution_count": 8,
   "metadata": {},
   "outputs": [],
   "source": [
    "cwac.loc[cwac['HHoldAreaType2_B01ID'] != 'Rural', 'HHoldAreaType2_B01ID'] = 'Urban'"
   ]
  },
  {
   "cell_type": "code",
   "execution_count": 9,
   "metadata": {},
   "outputs": [
    {
     "name": "stderr",
     "output_type": "stream",
     "text": [
      "C:\\Users\\Predator\\AppData\\Local\\Temp\\ipykernel_11580\\3322683356.py:1: SettingWithCopyWarning: \n",
      "A value is trying to be set on a copy of a slice from a DataFrame\n",
      "\n",
      "See the caveats in the documentation: https://pandas.pydata.org/pandas-docs/stable/user_guide/indexing.html#returning-a-view-versus-a-copy\n",
      "  cwac.trip_purpose.fillna('other', inplace=True)\n"
     ]
    }
   ],
   "source": [
    "cwac.trip_purpose.fillna('other', inplace=True)"
   ]
  },
  {
   "cell_type": "code",
   "execution_count": 12,
   "metadata": {},
   "outputs": [],
   "source": [
    "occupancy = cwac[cwac['main_mode'].str.contains('Car', na=False)].groupby(['HHoldAreaType2_B01ID','trip_purpose','dist_bins','occupant'])['weighted_trips'].sum().unstack()"
   ]
  },
  {
   "cell_type": "code",
   "execution_count": 14,
   "metadata": {},
   "outputs": [],
   "source": [
    "occupancy['occupancy'] = (occupancy['driver'] + occupancy['passenger']) / occupancy['passenger']"
   ]
  },
  {
   "cell_type": "code",
   "execution_count": 17,
   "metadata": {},
   "outputs": [
    {
     "data": {
      "text/plain": [
       "26168.228646322976"
      ]
     },
     "execution_count": 17,
     "metadata": {},
     "output_type": "execute_result"
    }
   ],
   "source": [
    "occupancy.driver.sum() + occupancy.passenger.sum()"
   ]
  },
  {
   "cell_type": "code",
   "execution_count": 22,
   "metadata": {},
   "outputs": [
    {
     "data": {
      "text/plain": [
       "35502.35184819163"
      ]
     },
     "execution_count": 22,
     "metadata": {},
     "output_type": "execute_result"
    }
   ],
   "source": [
    "cwac.weighted_trips.sum()"
   ]
  },
  {
   "cell_type": "code",
   "execution_count": 23,
   "metadata": {},
   "outputs": [],
   "source": [
    "occupancy.to_csv(output_dir / 'occupapncy.csv')"
   ]
  },
  {
   "cell_type": "code",
   "execution_count": 21,
   "metadata": {},
   "outputs": [
    {
     "name": "stderr",
     "output_type": "stream",
     "text": [
      "C:\\Users\\Predator\\AppData\\Local\\Temp\\ipykernel_10516\\302994789.py:1: FutureWarning: The default value of numeric_only in DataFrameGroupBy.sum is deprecated. In a future version, numeric_only will default to False. Either specify numeric_only or select only columns which should be valid for the function.\n",
      "  cwac.groupby(['Orig','Dest', 'main_mode', 'trip_purpose', 'dist_bins', 'HHoldAreaType2_B01ID']).sum()['weighted_trips']#.to_csv(output_dir / 'pivotable.csv')\n"
     ]
    },
    {
     "data": {
      "text/plain": [
       "Orig      Dest      main_mode  trip_purpose  dist_bins  HHoldAreaType2_B01ID\n",
       "External  External  Air        Business      0-10       Rural                   0.0\n",
       "                                                        Urban                   0.0\n",
       "                                             10-25      Rural                   0.0\n",
       "                                                        Urban                   0.0\n",
       "                                             25-50      Rural                   0.0\n",
       "                                                                               ... \n",
       "Internal  Internal  Walk       other         50-100     Urban                   0.0\n",
       "                                             100-200    Rural                   0.0\n",
       "                                                        Urban                   0.0\n",
       "                                             200+       Rural                   0.0\n",
       "                                                        Urban                   0.0\n",
       "Name: weighted_trips, Length: 1920, dtype: float64"
      ]
     },
     "execution_count": 21,
     "metadata": {},
     "output_type": "execute_result"
    }
   ],
   "source": [
    "cwac.groupby(['Orig','Dest', 'main_mode', 'trip_purpose', 'dist_bins', 'HHoldAreaType2_B01ID']).sum()['weighted_trips']#.to_csv(output_dir / 'pivotable.csv')"
   ]
  },
  {
   "cell_type": "code",
   "execution_count": 37,
   "metadata": {},
   "outputs": [],
   "source": [
    "#average mode share\n",
    "cwac.groupby(['SurveyYear', 'Orig', 'Dest', 'main_mode'])['weighted_trips'].sum().to_csv(output_dir / 'average_mode_share.csv')"
   ]
  },
  {
   "cell_type": "code",
   "execution_count": 31,
   "metadata": {},
   "outputs": [],
   "source": [
    "#modes by purpose\n",
    "cwac.groupby(['SurveyYear', 'Orig','Dest', 'trip_purpose', 'main_mode'])['weighted_trips'].sum().to_csv(output_dir / \"average_mode_by_purpose.csv\")"
   ]
  },
  {
   "cell_type": "code",
   "execution_count": 32,
   "metadata": {},
   "outputs": [],
   "source": [
    "#mode by distance\n",
    "cwac.groupby(['SurveyYear', 'Orig','Dest', 'dist_bins', 'main_mode'])['weighted_trips'].sum().to_csv(output_dir / \"average_mode_by_distance.csv\")"
   ]
  },
  {
   "cell_type": "code",
   "execution_count": 33,
   "metadata": {},
   "outputs": [],
   "source": [
    "cwac.groupby(['SurveyYear', 'Orig','Dest','HHoldAreaType2_B01ID', 'main_mode'])['weighted_trips'].sum().to_csv(output_dir / \"average_mode_by_RUC.csv\")"
   ]
  },
  {
   "cell_type": "code",
   "execution_count": 34,
   "metadata": {},
   "outputs": [],
   "source": [
    "cwac.groupby(['Orig','Dest','dist_bins'])['weighted_trips'].sum().to_csv(output_dir / \"TLD.csv\")"
   ]
  },
  {
   "cell_type": "code",
   "execution_count": 37,
   "metadata": {},
   "outputs": [
    {
     "data": {
      "text/plain": [
       "35502.35184819163"
      ]
     },
     "execution_count": 37,
     "metadata": {},
     "output_type": "execute_result"
    }
   ],
   "source": [
    "cwac.weighted_trips.sum()"
   ]
  },
  {
   "cell_type": "code",
   "execution_count": 3,
   "metadata": {},
   "outputs": [
    {
     "ename": "RuntimeError",
     "evalue": "asyncio.run() cannot be called from a running event loop",
     "output_type": "error",
     "traceback": [
      "\u001b[1;31m---------------------------------------------------------------------------\u001b[0m",
      "\u001b[1;31mRuntimeError\u001b[0m                              Traceback (most recent call last)",
      "Cell \u001b[1;32mIn[3], line 30\u001b[0m\n\u001b[0;32m     15\u001b[0m     results \u001b[39m=\u001b[39m \u001b[39mawait\u001b[39;00m sdk\u001b[39m.\u001b[39mtime_filter_async(\n\u001b[0;32m     16\u001b[0m         locations\u001b[39m=\u001b[39mlocations,\n\u001b[0;32m     17\u001b[0m         search_ids\u001b[39m=\u001b[39m{\n\u001b[1;32m   (...)\u001b[0m\n\u001b[0;32m     25\u001b[0m         \u001b[39mrange\u001b[39m\u001b[39m=\u001b[39mFullRange(enabled\u001b[39m=\u001b[39m\u001b[39mTrue\u001b[39;00m, max_results\u001b[39m=\u001b[39m\u001b[39m3\u001b[39m, width\u001b[39m=\u001b[39m\u001b[39m600\u001b[39m)\n\u001b[0;32m     26\u001b[0m     )\n\u001b[0;32m     28\u001b[0m     \u001b[39mprint\u001b[39m(results)\n\u001b[1;32m---> 30\u001b[0m asyncio\u001b[39m.\u001b[39;49mrun(main())\n",
      "File \u001b[1;32mc:\\Users\\Predator\\anaconda3\\envs\\ttime_env\\Lib\\asyncio\\runners.py:186\u001b[0m, in \u001b[0;36mrun\u001b[1;34m(main, debug)\u001b[0m\n\u001b[0;32m    161\u001b[0m \u001b[39m\u001b[39m\u001b[39m\"\"\"Execute the coroutine and return the result.\u001b[39;00m\n\u001b[0;32m    162\u001b[0m \n\u001b[0;32m    163\u001b[0m \u001b[39mThis function runs the passed coroutine, taking care of\u001b[39;00m\n\u001b[1;32m   (...)\u001b[0m\n\u001b[0;32m    182\u001b[0m \u001b[39m    asyncio.run(main())\u001b[39;00m\n\u001b[0;32m    183\u001b[0m \u001b[39m\"\"\"\u001b[39;00m\n\u001b[0;32m    184\u001b[0m \u001b[39mif\u001b[39;00m events\u001b[39m.\u001b[39m_get_running_loop() \u001b[39mis\u001b[39;00m \u001b[39mnot\u001b[39;00m \u001b[39mNone\u001b[39;00m:\n\u001b[0;32m    185\u001b[0m     \u001b[39m# fail fast with short traceback\u001b[39;00m\n\u001b[1;32m--> 186\u001b[0m     \u001b[39mraise\u001b[39;00m \u001b[39mRuntimeError\u001b[39;00m(\n\u001b[0;32m    187\u001b[0m         \u001b[39m\"\u001b[39m\u001b[39masyncio.run() cannot be called from a running event loop\u001b[39m\u001b[39m\"\u001b[39m)\n\u001b[0;32m    189\u001b[0m \u001b[39mwith\u001b[39;00m Runner(debug\u001b[39m=\u001b[39mdebug) \u001b[39mas\u001b[39;00m runner:\n\u001b[0;32m    190\u001b[0m     \u001b[39mreturn\u001b[39;00m runner\u001b[39m.\u001b[39mrun(main)\n",
      "\u001b[1;31mRuntimeError\u001b[0m: asyncio.run() cannot be called from a running event loop"
     ]
    }
   ],
   "source": [
    "import asyncio\n",
    "from datetime import datetime\n",
    "\n",
    "from traveltimepy import Location, Coordinates, PublicTransport, Property, FullRange, TravelTimeSdk\n",
    "\n",
    "async def main():\n",
    "    sdk = TravelTimeSdk(\"YOUR_APP_ID\", \"YOUR_APP_KEY\")\n",
    "\n",
    "    locations = [\n",
    "        Location(id=\"London center\", coords=Coordinates(lat=51.508930, lng=-0.131387)),\n",
    "        Location(id=\"Hyde Park\", coords=Coordinates(lat=51.508824, lng=-0.167093)),\n",
    "        Location(id=\"ZSL London Zoo\", coords=Coordinates(lat=51.536067, lng=-0.153596))\n",
    "    ]\n",
    "\n",
    "    results = await sdk.time_filter_async(\n",
    "        locations=locations,\n",
    "        search_ids={\n",
    "            \"London center\": [\"Hyde Park\", \"ZSL London Zoo\"],\n",
    "            \"ZSL London Zoo\": [\"Hyde Park\", \"London center\"],\n",
    "        },\n",
    "        departure_time=datetime.now(),\n",
    "        travel_time=3600,\n",
    "        transportation=PublicTransport(type=\"bus\"),\n",
    "        properties=[Property.TRAVEL_TIME],\n",
    "        range=FullRange(enabled=True, max_results=3, width=600)\n",
    "    )\n",
    "\n",
    "    print(results)\n",
    "\n",
    "asyncio.run(main())"
   ]
  },
  {
   "cell_type": "code",
   "execution_count": 2,
   "metadata": {},
   "outputs": [
    {
     "ename": "RuntimeError",
     "evalue": "asyncio.run() cannot be called from a running event loop",
     "output_type": "error",
     "traceback": [
      "\u001b[1;31m---------------------------------------------------------------------------\u001b[0m",
      "\u001b[1;31mRuntimeError\u001b[0m                              Traceback (most recent call last)",
      "Cell \u001b[1;32mIn[2], line 1\u001b[0m\n\u001b[1;32m----> 1\u001b[0m asyncio\u001b[39m.\u001b[39;49mrun(main())\n",
      "File \u001b[1;32mc:\\Users\\Predator\\anaconda3\\envs\\ttime_env\\Lib\\asyncio\\runners.py:186\u001b[0m, in \u001b[0;36mrun\u001b[1;34m(main, debug)\u001b[0m\n\u001b[0;32m    161\u001b[0m \u001b[39m\u001b[39m\u001b[39m\"\"\"Execute the coroutine and return the result.\u001b[39;00m\n\u001b[0;32m    162\u001b[0m \n\u001b[0;32m    163\u001b[0m \u001b[39mThis function runs the passed coroutine, taking care of\u001b[39;00m\n\u001b[1;32m   (...)\u001b[0m\n\u001b[0;32m    182\u001b[0m \u001b[39m    asyncio.run(main())\u001b[39;00m\n\u001b[0;32m    183\u001b[0m \u001b[39m\"\"\"\u001b[39;00m\n\u001b[0;32m    184\u001b[0m \u001b[39mif\u001b[39;00m events\u001b[39m.\u001b[39m_get_running_loop() \u001b[39mis\u001b[39;00m \u001b[39mnot\u001b[39;00m \u001b[39mNone\u001b[39;00m:\n\u001b[0;32m    185\u001b[0m     \u001b[39m# fail fast with short traceback\u001b[39;00m\n\u001b[1;32m--> 186\u001b[0m     \u001b[39mraise\u001b[39;00m \u001b[39mRuntimeError\u001b[39;00m(\n\u001b[0;32m    187\u001b[0m         \u001b[39m\"\u001b[39m\u001b[39masyncio.run() cannot be called from a running event loop\u001b[39m\u001b[39m\"\u001b[39m)\n\u001b[0;32m    189\u001b[0m \u001b[39mwith\u001b[39;00m Runner(debug\u001b[39m=\u001b[39mdebug) \u001b[39mas\u001b[39;00m runner:\n\u001b[0;32m    190\u001b[0m     \u001b[39mreturn\u001b[39;00m runner\u001b[39m.\u001b[39mrun(main)\n",
      "\u001b[1;31mRuntimeError\u001b[0m: asyncio.run() cannot be called from a running event loop"
     ]
    }
   ],
   "source": []
  }
 ],
 "metadata": {
  "kernelspec": {
   "display_name": "misc",
   "language": "python",
   "name": "python3"
  },
  "language_info": {
   "codemirror_mode": {
    "name": "ipython",
    "version": 3
   },
   "file_extension": ".py",
   "mimetype": "text/x-python",
   "name": "python",
   "nbconvert_exporter": "python",
   "pygments_lexer": "ipython3",
   "version": "3.11.4"
  },
  "orig_nbformat": 4
 },
 "nbformat": 4,
 "nbformat_minor": 2
}
