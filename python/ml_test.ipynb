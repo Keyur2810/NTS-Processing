{
 "cells": [
  {
   "cell_type": "code",
   "execution_count": 1,
   "metadata": {},
   "outputs": [],
   "source": [
    "import pandas as pd\n",
    "import numpy as np\n",
    "from sklearn.preprocessing import OneHotEncoder\n",
    "from sklearn.ensemble import RandomForestRegressor, GradientBoostingRegressor\n",
    "from sklearn.model_selection import train_test_split\n",
    "from sklearn.model_selection import cross_validate\n",
    "from scipy.stats import lognorm\n",
    "from scipy.optimize import curve_fit\n",
    "from matplotlib import pyplot as plt"
   ]
  },
  {
   "cell_type": "code",
   "execution_count": 2,
   "metadata": {},
   "outputs": [],
   "source": [
    "data = pd.read_hdf(r\"E:\\NTS\\analysis\\int\\mode_3.h5\", key='encoded')\n",
    "simple_ind = pd.read_hdf(r\"E:\\NTS\\analysis\\int\\mode_3.h5\", key='unencoded')\n",
    "cb = pd.read_hdf(r\"E:\\NTS\\analysis\\int\\data.h5\", key='3')"
   ]
  },
  {
   "cell_type": "code",
   "execution_count": 6,
   "metadata": {},
   "outputs": [
    {
     "data": {
      "text/plain": [
       "Index(['householdid', 'individualid', 'dayid', 'tripid', 'mainmode_b11id',\n",
       "       'trippurpfrom_b01id', 'trippurpto_b01id', 'tripstart_b01id',\n",
       "       'tripend_b01id', 'tripdisincsw', 'triptravtime', 'triporigcounty_b01id',\n",
       "       'triporiggor_b02id', 'tripdestcounty_b01id', 'tripdestgor_b02id',\n",
       "       'triporigareatype1_b01id', 'tripdestareatype1_b01id',\n",
       "       'triporigareatype2_b01id', 'tripdestareatype2_b01id',\n",
       "       'triporigua1998_b01id', 'triporigua2009_b01id', 'tripdestua1998_b01id',\n",
       "       'tripdestua2009_b01id', 'w5', 'w5xhh', 'jjxsc', 'trippurpose_b01id',\n",
       "       'surveyyear', 'hholdoslaua_b01id', 'hholdcounty_b01id',\n",
       "       'hholdgor_b02id', 'settlement2011ew_b01id', 'hholdareatype1_b01id',\n",
       "       'hholdareatype2_b01id', 'hholdua1998_b01id', 'hholdua2009_b01id',\n",
       "       'hholdnumadults', 'hholdnumchildren', 'numcarvan', 'hhincome2002_b01id',\n",
       "       'w1', 'w2', 'w3', 'age_b01id', 'sex_b01id', 'ecostat_b01id',\n",
       "       'sic1992_b02id', 'sic2007_b02id', 'xsoc2000_b02id', 'nssec_b03id',\n",
       "       'indincome2002_b01id', 'hrprelation_b01id', 'ofthome_b01id',\n",
       "       'travelweekday_b01id', 'trips', 'trav_dist', 'hholdua_b01id',\n",
       "       'hholdareatype_b01id', 'triporigua_b01id', 'triporigareatype_b01id',\n",
       "       'tripdestua_b01id', 'tripdestareatype_b01id', 'tour_group', 'mode',\n",
       "       'occupant', 'period', 'purpose', 'direction', 'hholdruc2011_b01id',\n",
       "       'triporigruc2011_b01id', 'tripdestruc2011_b01id', 'tfn_at', 'tfn_at_o',\n",
       "       'tfn_at_d', 'aws', 'gender', 'hh_type', 'hh_child', 'ns_ind', 'soc',\n",
       "       'ns', 'sic', 'income', 'hh_income', 'income_tag', 'wfh', 'tt', 'at'],\n",
       "      dtype='object')"
      ]
     },
     "execution_count": 6,
     "metadata": {},
     "output_type": "execute_result"
    }
   ],
   "source": [
    "    def _tld_ml_prep(self, cb, seg_cols, dis_col, threshold=300):\n",
    "        update = {}\n",
    "        for i, j in self.luk.dct_to_specs(self.luk.set_01id).items():\n",
    "            for k in j:\n",
    "                if isinstance(k, str):\n",
    "                    update[k.upper()] = i\n",
    "                else:\n",
    "                    update[k] = i\n",
    "        update = pd.DataFrame.from_dict(update, orient=\"index\", columns=[\"at\"])\n",
    "        modes = {}\n",
    "        for mode in cb[\"mode\"].unique():\n",
    "            inner = cb[cb[\"mode\"] == mode]\n",
    "            dists = inner[dis_col].values\n",
    "            bands = fun.dist_band(dists.max())\n",
    "            inner[\"band\"] = pd.cut(dists, bands)\n",
    "            modes[mode] = inner\n",
    "            inner_df = pd.merge(\n",
    "                inner, update, left_on=\"settlement2011ew_b01id\", right_index=True\n",
    "            )\n",
    "            inner_df.drop(columns=[\"band\"]).to_hdf(\n",
    "                r\"E:\\NTS\\analysis\\int\\data.h5\", key=str(mode), mode=\"a\"\n",
    "            )\n",
    "            inner_df[\"count\"] = 1\n",
    "            seg_cols += [\"at\", \"triporiggor_b02id\"]\n",
    "            big_count = inner_df.groupby(seg_cols)[[\"count\", \"trips\"]].sum()\n",
    "            small_count = (\n",
    "                inner_df.groupby(seg_cols + [\"band\"], observed=False)[\"trips\"]\n",
    "                .sum()\n",
    "                .reset_index(level=\"band\")\n",
    "            )\n",
    "            big_count.columns = [\"sample size\", \"agg trips\"]\n",
    "            joined = small_count.join(big_count, how=\"inner\")\n",
    "            joined[\"norm_trips\"] = joined[\"trips\"] / joined[\"agg trips\"]\n",
    "            joined[\"band start\"] = pd.IntervalIndex(joined[\"band\"]).left\n",
    "            joined.set_index(\"band start\", append=True, inplace=True)\n",
    "            joined.reset_index(level=\"mode\", inplace=True)\n",
    "            joined.drop([\"mode\", \"band\"], axis=1, inplace=True)\n",
    "            joined.drop(0, inplace=True)\n",
    "            joined.drop([0, 5, 6], level=\"period\", inplace=True)\n",
    "            enc = OneHotEncoder()\n",
    "            enc.fit(joined.index.to_frame())\n",
    "            cols = []\n",
    "            iterator = joined.index.names\n",
    "            for i, cat in enumerate(enc.categories_):\n",
    "                for j in cat:\n",
    "                    cols.append(f\"{iterator[i]}_{j}\")\n",
    "            index = enc.transform(joined.index.to_frame()).toarray()\n",
    "            encoded_index = pd.MultiIndex.from_frame(pd.DataFrame(index, columns=cols))\n",
    "            ready_data = pd.DataFrame(\n",
    "                joined[[\"norm_trips\", \"sample size\"]].values,\n",
    "                index=encoded_index,\n",
    "                columns=[\"norm_trips\", \"sample size\"],\n",
    "            )\n",
    "            training = ready_data.loc[\n",
    "                ready_data[\"sample size\"] > threshold, \"norm_trips\"\n",
    "            ]\n",
    "            to_predict = ready_data.loc[\n",
    "                ready_data[\"sample size\"] <= threshold, \"norm_trips\"\n",
    "            ]\n",
    "            X = training.index.to_frame()\n",
    "            y = training.values\n",
    "            X_train, X_test, y_train, y_test = train_test_split(X, y)\n",
    "            regr = RandomForestRegressor()\n",
    "            score = cross_validate(regr, X, y, cv=5, scoring=(\"r2\"))\n",
    "            regr.fit(X_train, y_train)\n",
    "            test = regr.predict(X_test)\n",
    "            pred = regr.predict(to_predict.index.to_frame())\n",
    "\n",
    "        return ready_data"
   ]
  },
  {
   "cell_type": "code",
   "execution_count": 10,
   "metadata": {},
   "outputs": [],
   "source": [
    "cb.set_index(['purpose', 'mode','at', 'triporiggor_b02id'], inplace=True)\n"
   ]
  },
  {
   "cell_type": "code",
   "execution_count": 7,
   "metadata": {},
   "outputs": [],
   "source": [
    "counted = cb.groupby(['direction','mode','purpose','at','triporiggor_b02id'])['trips'].count()"
   ]
  },
  {
   "cell_type": "code",
   "execution_count": 13,
   "metadata": {},
   "outputs": [],
   "source": [
    "cb.set_index(['direction','mode','purpose','at','triporiggor_b02id'], inplace=True)"
   ]
  },
  {
   "cell_type": "code",
   "execution_count": 37,
   "metadata": {},
   "outputs": [
    {
     "name": "stderr",
     "output_type": "stream",
     "text": [
      "C:\\Users\\Predator\\AppData\\Local\\Temp\\ipykernel_14732\\3018297182.py:1: PerformanceWarning: indexing past lexsort depth may impact performance.\n",
      "  city_1_8 = cb.loc['hb_fr', 3, 1,'city',8]\n"
     ]
    }
   ],
   "source": [
    "city_1_8 = cb.loc['hb_fr', 3, 1,'city',8]"
   ]
  },
  {
   "cell_type": "code",
   "execution_count": 39,
   "metadata": {},
   "outputs": [],
   "source": [
    "popt = lognorm.fit(city_1_8['trav_dist'])"
   ]
  },
  {
   "cell_type": "code",
   "execution_count": 20,
   "metadata": {},
   "outputs": [
    {
     "data": {
      "text/plain": [
       "trav_dist\n",
       "0.160930      39.620299\n",
       "0.177023       1.056252\n",
       "0.321860      50.753408\n",
       "0.402325      66.651000\n",
       "0.450604       1.289431\n",
       "                ...    \n",
       "481.180700     2.795046\n",
       "492.445800     0.827332\n",
       "502.101600     1.798901\n",
       "537.988990     2.991534\n",
       "772.464000     4.395958\n",
       "Name: trips, Length: 580, dtype: float64"
      ]
     },
     "execution_count": 20,
     "metadata": {},
     "output_type": "execute_result"
    }
   ],
   "source": [
    "major_7_7.groupby('trav_dist')['trips'].sum()"
   ]
  },
  {
   "cell_type": "code",
   "execution_count": 58,
   "metadata": {},
   "outputs": [
    {
     "name": "stderr",
     "output_type": "stream",
     "text": [
      "c:\\Users\\Predator\\miniforge3\\envs\\NTS\\lib\\site-packages\\pandas\\core\\indexes\\base.py:911: RuntimeWarning: overflow encountered in exp\n",
      "  result = getattr(ufunc, method)(*new_inputs, **kwargs)\n"
     ]
    }
   ],
   "source": [
    "popt, pcov = curve_fit(grav_func, city_1_8.index, city_1_8.values, p0=(1, 1))"
   ]
  },
  {
   "cell_type": "code",
   "execution_count": 59,
   "metadata": {},
   "outputs": [
    {
     "data": {
      "text/plain": [
       "array([-7.18418002,  1.17424924])"
      ]
     },
     "execution_count": 59,
     "metadata": {},
     "output_type": "execute_result"
    }
   ],
   "source": [
    "popt"
   ]
  },
  {
   "cell_type": "code",
   "execution_count": 28,
   "metadata": {},
   "outputs": [
    {
     "data": {
      "text/plain": [
       "array([3.38407504e-04, 1.14077261e+00, 4.68538187e-01])"
      ]
     },
     "execution_count": 28,
     "metadata": {},
     "output_type": "execute_result"
    }
   ],
   "source": [
    "popt"
   ]
  },
  {
   "cell_type": "code",
   "execution_count": 61,
   "metadata": {},
   "outputs": [],
   "source": [
    "x = np.linspace(0, city_1_8.index.max(), len(city_1_8))\n",
    "pdf_fitted = grav_func(x, *popt)"
   ]
  },
  {
   "cell_type": "code",
   "execution_count": 75,
   "metadata": {},
   "outputs": [],
   "source": [
    "# residuals = major_7_7['trips'] - pdf_fitted\n",
    "rss = np.sum(residuals**2)"
   ]
  },
  {
   "cell_type": "code",
   "execution_count": 76,
   "metadata": {},
   "outputs": [],
   "source": [
    "rmse = np.sqrt(np.mean(residuals**2))\n",
    "total_sum_of_squares = np.sum((weights - np.mean(weights))**2)\n",
    "# explained_sum_of_squares = np.sum((lognormal_pdf(distance, *popt) - np.mean(weights))**2)\n",
    "r_squared = 1 - (rss / total_sum_of_squares)"
   ]
  },
  {
   "cell_type": "code",
   "execution_count": 55,
   "metadata": {},
   "outputs": [
    {
     "data": {
      "text/plain": [
       "trav_dist\n",
       "0.160930       37.137558\n",
       "0.305767        1.689021\n",
       "0.321860        7.397898\n",
       "0.402325       56.175414\n",
       "0.482790      118.204545\n",
       "                 ...    \n",
       "289.674000      1.536250\n",
       "296.111200      1.218589\n",
       "374.966900      1.131421\n",
       "378.185500      3.347615\n",
       "780.510500      1.213257\n",
       "Name: trips, Length: 503, dtype: float64"
      ]
     },
     "execution_count": 55,
     "metadata": {},
     "output_type": "execute_result"
    }
   ],
   "source": [
    "city_1_8"
   ]
  },
  {
   "cell_type": "code",
   "execution_count": 54,
   "metadata": {},
   "outputs": [
    {
     "ename": "KeyError",
     "evalue": "'Column not found: trips'",
     "output_type": "error",
     "traceback": [
      "\u001b[1;31m---------------------------------------------------------------------------\u001b[0m",
      "\u001b[1;31mKeyError\u001b[0m                                  Traceback (most recent call last)",
      "Cell \u001b[1;32mIn[54], line 1\u001b[0m\n\u001b[1;32m----> 1\u001b[0m city_1_8_grouped \u001b[38;5;241m=\u001b[39m \u001b[43mcity_1_8\u001b[49m\u001b[38;5;241;43m.\u001b[39;49m\u001b[43mgroupby\u001b[49m\u001b[43m(\u001b[49m\u001b[43m[\u001b[49m\u001b[38;5;124;43m'\u001b[39;49m\u001b[38;5;124;43mtrav_dist\u001b[39;49m\u001b[38;5;124;43m'\u001b[39;49m\u001b[43m]\u001b[49m\u001b[43m)\u001b[49m\u001b[43m[\u001b[49m\u001b[38;5;124;43m'\u001b[39;49m\u001b[38;5;124;43mtrips\u001b[39;49m\u001b[38;5;124;43m'\u001b[39;49m\u001b[43m]\u001b[49m\u001b[38;5;241m.\u001b[39msum()\n",
      "File \u001b[1;32mc:\\Users\\Predator\\miniforge3\\envs\\NTS\\lib\\site-packages\\pandas\\core\\base.py:244\u001b[0m, in \u001b[0;36mSelectionMixin.__getitem__\u001b[1;34m(self, key)\u001b[0m\n\u001b[0;32m    242\u001b[0m \u001b[38;5;28;01melse\u001b[39;00m:\n\u001b[0;32m    243\u001b[0m     \u001b[38;5;28;01mif\u001b[39;00m key \u001b[38;5;129;01mnot\u001b[39;00m \u001b[38;5;129;01min\u001b[39;00m \u001b[38;5;28mself\u001b[39m\u001b[38;5;241m.\u001b[39mobj:\n\u001b[1;32m--> 244\u001b[0m         \u001b[38;5;28;01mraise\u001b[39;00m \u001b[38;5;167;01mKeyError\u001b[39;00m(\u001b[38;5;124mf\u001b[39m\u001b[38;5;124m\"\u001b[39m\u001b[38;5;124mColumn not found: \u001b[39m\u001b[38;5;132;01m{\u001b[39;00mkey\u001b[38;5;132;01m}\u001b[39;00m\u001b[38;5;124m\"\u001b[39m)\n\u001b[0;32m    245\u001b[0m     ndim \u001b[38;5;241m=\u001b[39m \u001b[38;5;28mself\u001b[39m\u001b[38;5;241m.\u001b[39mobj[key]\u001b[38;5;241m.\u001b[39mndim\n\u001b[0;32m    246\u001b[0m     \u001b[38;5;28;01mreturn\u001b[39;00m \u001b[38;5;28mself\u001b[39m\u001b[38;5;241m.\u001b[39m_gotitem(key, ndim\u001b[38;5;241m=\u001b[39mndim)\n",
      "\u001b[1;31mKeyError\u001b[0m: 'Column not found: trips'"
     ]
    }
   ],
   "source": [
    "city_1_8_grouped = city_1_8.groupby(['trav_dist'])['trips'].sum()"
   ]
  },
  {
   "cell_type": "code",
   "execution_count": 42,
   "metadata": {},
   "outputs": [],
   "source": [
    "df = pd.DataFrame({'dist':x, 'weight':pdf_fitted})"
   ]
  },
  {
   "cell_type": "code",
   "execution_count": 52,
   "metadata": {},
   "outputs": [],
   "source": [
    "city_1_8 = city_1_8.groupby('trav_dist')['trips'].sum()"
   ]
  },
  {
   "cell_type": "code",
   "execution_count": 57,
   "metadata": {},
   "outputs": [],
   "source": [
    "def grav_func(x, n, b):\n",
    "    return x**-n * np.exp(-b * x)"
   ]
  },
  {
   "cell_type": "code",
   "execution_count": 63,
   "metadata": {},
   "outputs": [
    {
     "data": {
      "text/plain": [
       "[<matplotlib.lines.Line2D at 0x24524ca8ac0>]"
      ]
     },
     "execution_count": 63,
     "metadata": {},
     "output_type": "execute_result"
    },
    {
     "data": {
      "image/png": "[encoded data removed]",
      "text/plain": [
       "<Figure size 640x480 with 1 Axes>"
      ]
     },
     "metadata": {},
     "output_type": "display_data"
    }
   ],
   "source": [
    "plt.hist(city_1_8.index, bins=500, density=True, alpha=0.6, color='g')\n",
    "plt.plot(x, pdf_fitted, alpha=0.5)"
   ]
  },
  {
   "cell_type": "code",
   "execution_count": 109,
   "metadata": {},
   "outputs": [
    {
     "data": {
      "text/html": [
       "<div>\n",
       "<style scoped>\n",
       "    .dataframe tbody tr th:only-of-type {\n",
       "        vertical-align: middle;\n",
       "    }\n",
       "\n",
       "    .dataframe tbody tr th {\n",
       "        vertical-align: top;\n",
       "    }\n",
       "\n",
       "    .dataframe thead th {\n",
       "        text-align: right;\n",
       "    }\n",
       "</style>\n",
       "<table border=\"1\" class=\"dataframe\">\n",
       "  <thead>\n",
       "    <tr style=\"text-align: right;\">\n",
       "      <th></th>\n",
       "      <th>dist</th>\n",
       "      <th>fit</th>\n",
       "    </tr>\n",
       "  </thead>\n",
       "  <tbody>\n",
       "    <tr>\n",
       "      <th>67</th>\n",
       "      <td>1.567861</td>\n",
       "      <td>0.483469</td>\n",
       "    </tr>\n",
       "    <tr>\n",
       "      <th>68</th>\n",
       "      <td>1.591262</td>\n",
       "      <td>0.821266</td>\n",
       "    </tr>\n",
       "    <tr>\n",
       "      <th>69</th>\n",
       "      <td>1.614663</td>\n",
       "      <td>0.927033</td>\n",
       "    </tr>\n",
       "    <tr>\n",
       "      <th>70</th>\n",
       "      <td>1.638064</td>\n",
       "      <td>0.951495</td>\n",
       "    </tr>\n",
       "    <tr>\n",
       "      <th>71</th>\n",
       "      <td>1.661465</td>\n",
       "      <td>0.941963</td>\n",
       "    </tr>\n",
       "    <tr>\n",
       "      <th>...</th>\n",
       "      <td>...</td>\n",
       "      <td>...</td>\n",
       "    </tr>\n",
       "    <tr>\n",
       "      <th>155</th>\n",
       "      <td>3.627141</td>\n",
       "      <td>0.107756</td>\n",
       "    </tr>\n",
       "    <tr>\n",
       "      <th>156</th>\n",
       "      <td>3.650542</td>\n",
       "      <td>0.106103</td>\n",
       "    </tr>\n",
       "    <tr>\n",
       "      <th>157</th>\n",
       "      <td>3.673943</td>\n",
       "      <td>0.104488</td>\n",
       "    </tr>\n",
       "    <tr>\n",
       "      <th>158</th>\n",
       "      <td>3.697344</td>\n",
       "      <td>0.102909</td>\n",
       "    </tr>\n",
       "    <tr>\n",
       "      <th>159</th>\n",
       "      <td>3.720745</td>\n",
       "      <td>0.101365</td>\n",
       "    </tr>\n",
       "  </tbody>\n",
       "</table>\n",
       "<p>93 rows × 2 columns</p>\n",
       "</div>"
      ],
      "text/plain": [
       "         dist       fit\n",
       "67   1.567861  0.483469\n",
       "68   1.591262  0.821266\n",
       "69   1.614663  0.927033\n",
       "70   1.638064  0.951495\n",
       "71   1.661465  0.941963\n",
       "..        ...       ...\n",
       "155  3.627141  0.107756\n",
       "156  3.650542  0.106103\n",
       "157  3.673943  0.104488\n",
       "158  3.697344  0.102909\n",
       "159  3.720745  0.101365\n",
       "\n",
       "[93 rows x 2 columns]"
      ]
     },
     "execution_count": 109,
     "metadata": {},
     "output_type": "execute_result"
    }
   ],
   "source": [
    "df[df['fit']>0.1]"
   ]
  },
  {
   "cell_type": "code",
   "execution_count": 110,
   "metadata": {},
   "outputs": [
    {
     "data": {
      "text/plain": [
       "772.4639999999999"
      ]
     },
     "execution_count": 110,
     "metadata": {},
     "output_type": "execute_result"
    }
   ],
   "source": [
    "df['dist'].max()"
   ]
  },
  {
   "cell_type": "code",
   "execution_count": 113,
   "metadata": {},
   "outputs": [],
   "source": [
    "df['bin'] = pd.cut(df['dist'], 773)"
   ]
  },
  {
   "cell_type": "code",
   "execution_count": 114,
   "metadata": {},
   "outputs": [
    {
     "name": "stderr",
     "output_type": "stream",
     "text": [
      "C:\\Users\\Predator\\AppData\\Local\\Temp\\ipykernel_14188\\3922497875.py:1: SettingWithCopyWarning: \n",
      "A value is trying to be set on a copy of a slice from a DataFrame.\n",
      "Try using .loc[row_indexer,col_indexer] = value instead\n",
      "\n",
      "See the caveats in the documentation: https://pandas.pydata.org/pandas-docs/stable/user_guide/indexing.html#returning-a-view-versus-a-copy\n",
      "  major_7_7['bin'] = pd.cut(major_7_7['trav_dist'], 773)\n"
     ]
    }
   ],
   "source": [
    "major_7_7['bin'] = pd.cut(major_7_7['trav_dist'], 773)"
   ]
  },
  {
   "cell_type": "code",
   "execution_count": 117,
   "metadata": {},
   "outputs": [],
   "source": [
    "major_grouped = major_7_7.groupby('bin')['trips'].sum()"
   ]
  },
  {
   "cell_type": "code",
   "execution_count": 118,
   "metadata": {},
   "outputs": [],
   "source": [
    "df_grouped = df.groupby('bin')['fit'].sum()"
   ]
  },
  {
   "cell_type": "code",
   "execution_count": 120,
   "metadata": {},
   "outputs": [],
   "source": [
    "df_grouped.index = major_grouped.index"
   ]
  },
  {
   "cell_type": "code",
   "execution_count": 124,
   "metadata": {},
   "outputs": [],
   "source": [
    "joined = df_grouped.to_frame().join(major_grouped)"
   ]
  },
  {
   "cell_type": "code",
   "execution_count": 126,
   "metadata": {},
   "outputs": [],
   "source": [
    "joined['trips'] *= joined['fit'].sum() / joined['trips'].sum()"
   ]
  },
  {
   "cell_type": "code",
   "execution_count": 135,
   "metadata": {},
   "outputs": [],
   "source": [
    "residual = (joined['fit'] - joined['trips']).values"
   ]
  },
  {
   "cell_type": "code",
   "execution_count": 137,
   "metadata": {},
   "outputs": [],
   "source": [
    "rss = np.sum(residuals**2)\n",
    "rmse = np.sqrt(np.mean(residuals**2))\n",
    "\n"
   ]
  },
  {
   "cell_type": "code",
   "execution_count": 144,
   "metadata": {},
   "outputs": [],
   "source": [
    "joined.reset_index(inplace=True)"
   ]
  },
  {
   "cell_type": "code",
   "execution_count": 145,
   "metadata": {},
   "outputs": [
    {
     "data": {
      "text/plain": [
       "[<matplotlib.lines.Line2D at 0x13a0d08c220>]"
      ]
     },
     "execution_count": 145,
     "metadata": {},
     "output_type": "execute_result"
    },
    {
     "data": {
      "image/png": "[encoded data removed]",
      "text/plain": [
       "<Figure size 640x480 with 1 Axes>"
      ]
     },
     "metadata": {},
     "output_type": "display_data"
    }
   ],
   "source": [
    "plt.plot(joined.index, joined['trips'], color='g')\n",
    "plt.plot(joined.index, joined['fit'], color='r')"
   ]
  },
  {
   "cell_type": "code",
   "execution_count": 107,
   "metadata": {},
   "outputs": [
    {
     "data": {
      "text/plain": [
       "[<matplotlib.lines.Line2D at 0x13a0c83e410>]"
      ]
     },
     "execution_count": 107,
     "metadata": {},
     "output_type": "execute_result"
    },
    {
     "data": {
      "image/png": "[encoded data removed]",
      "text/plain": [
       "<Figure size 640x480 with 1 Axes>"
      ]
     },
     "metadata": {},
     "output_type": "display_data"
    }
   ],
   "source": [
    "plt.plot(df[df['fit']>0.1]['dist'], df[df['fit']>0.1]['fit'])\n"
   ]
  },
  {
   "cell_type": "code",
   "execution_count": 42,
   "metadata": {},
   "outputs": [
    {
     "data": {
      "text/plain": [
       "array([0.21186291, 0.0751672 , 0.08305514])"
      ]
     },
     "execution_count": 42,
     "metadata": {},
     "output_type": "execute_result"
    }
   ],
   "source": [
    "np.sqrt(np.diag(pcov))"
   ]
  },
  {
   "cell_type": "code",
   "execution_count": 6,
   "metadata": {},
   "outputs": [],
   "source": [
    "car.drop([0,5,6], level='period', inplace=True)"
   ]
  },
  {
   "cell_type": "code",
   "execution_count": 8,
   "metadata": {},
   "outputs": [
    {
     "data": {
      "text/html": [
       "<div>\n",
       "<style scoped>\n",
       "    .dataframe tbody tr th:only-of-type {\n",
       "        vertical-align: middle;\n",
       "    }\n",
       "\n",
       "    .dataframe tbody tr th {\n",
       "        vertical-align: top;\n",
       "    }\n",
       "\n",
       "    .dataframe thead th {\n",
       "        text-align: right;\n",
       "    }\n",
       "</style>\n",
       "<table border=\"1\" class=\"dataframe\">\n",
       "  <thead>\n",
       "    <tr style=\"text-align: right;\">\n",
       "      <th></th>\n",
       "      <th></th>\n",
       "      <th></th>\n",
       "      <th></th>\n",
       "      <th></th>\n",
       "      <th></th>\n",
       "      <th>trips</th>\n",
       "      <th>sample size</th>\n",
       "      <th>agg trips</th>\n",
       "      <th>norm_trips</th>\n",
       "    </tr>\n",
       "    <tr>\n",
       "      <th>purpose</th>\n",
       "      <th>direction</th>\n",
       "      <th>period</th>\n",
       "      <th>at</th>\n",
       "      <th>triporiggor_b02id</th>\n",
       "      <th>band start</th>\n",
       "      <th></th>\n",
       "      <th></th>\n",
       "      <th></th>\n",
       "      <th></th>\n",
       "    </tr>\n",
       "  </thead>\n",
       "  <tbody>\n",
       "    <tr>\n",
       "      <th rowspan=\"5\" valign=\"top\">1</th>\n",
       "      <th rowspan=\"5\" valign=\"top\">hb_fr</th>\n",
       "      <th rowspan=\"5\" valign=\"top\">1</th>\n",
       "      <th rowspan=\"5\" valign=\"top\">city</th>\n",
       "      <th rowspan=\"5\" valign=\"top\">4</th>\n",
       "      <th>0</th>\n",
       "      <td>165.343932</td>\n",
       "      <td>8136</td>\n",
       "      <td>9193.188473</td>\n",
       "      <td>0.017985</td>\n",
       "    </tr>\n",
       "    <tr>\n",
       "      <th>1</th>\n",
       "      <td>1977.595132</td>\n",
       "      <td>8136</td>\n",
       "      <td>9193.188473</td>\n",
       "      <td>0.215115</td>\n",
       "    </tr>\n",
       "    <tr>\n",
       "      <th>4</th>\n",
       "      <td>2802.800124</td>\n",
       "      <td>8136</td>\n",
       "      <td>9193.188473</td>\n",
       "      <td>0.304878</td>\n",
       "    </tr>\n",
       "    <tr>\n",
       "      <th>9</th>\n",
       "      <td>1196.464327</td>\n",
       "      <td>8136</td>\n",
       "      <td>9193.188473</td>\n",
       "      <td>0.130147</td>\n",
       "    </tr>\n",
       "    <tr>\n",
       "      <th>14</th>\n",
       "      <td>1090.731469</td>\n",
       "      <td>8136</td>\n",
       "      <td>9193.188473</td>\n",
       "      <td>0.118646</td>\n",
       "    </tr>\n",
       "    <tr>\n",
       "      <th>...</th>\n",
       "      <th>...</th>\n",
       "      <th>...</th>\n",
       "      <th>...</th>\n",
       "      <th>...</th>\n",
       "      <th>...</th>\n",
       "      <td>...</td>\n",
       "      <td>...</td>\n",
       "      <td>...</td>\n",
       "      <td>...</td>\n",
       "    </tr>\n",
       "    <tr>\n",
       "      <th rowspan=\"5\" valign=\"top\">8</th>\n",
       "      <th rowspan=\"5\" valign=\"top\">nhb</th>\n",
       "      <th rowspan=\"5\" valign=\"top\">4</th>\n",
       "      <th rowspan=\"5\" valign=\"top\">village</th>\n",
       "      <th rowspan=\"5\" valign=\"top\">5</th>\n",
       "      <th>941</th>\n",
       "      <td>0.000000</td>\n",
       "      <td>19</td>\n",
       "      <td>17.327568</td>\n",
       "      <td>0.000000</td>\n",
       "    </tr>\n",
       "    <tr>\n",
       "      <th>1005</th>\n",
       "      <td>0.000000</td>\n",
       "      <td>19</td>\n",
       "      <td>17.327568</td>\n",
       "      <td>0.000000</td>\n",
       "    </tr>\n",
       "    <tr>\n",
       "      <th>1071</th>\n",
       "      <td>0.000000</td>\n",
       "      <td>19</td>\n",
       "      <td>17.327568</td>\n",
       "      <td>0.000000</td>\n",
       "    </tr>\n",
       "    <tr>\n",
       "      <th>1140</th>\n",
       "      <td>0.000000</td>\n",
       "      <td>19</td>\n",
       "      <td>17.327568</td>\n",
       "      <td>0.000000</td>\n",
       "    </tr>\n",
       "    <tr>\n",
       "      <th>1210</th>\n",
       "      <td>0.000000</td>\n",
       "      <td>19</td>\n",
       "      <td>17.327568</td>\n",
       "      <td>0.000000</td>\n",
       "    </tr>\n",
       "  </tbody>\n",
       "</table>\n",
       "<p>34040 rows × 4 columns</p>\n",
       "</div>"
      ],
      "text/plain": [
       "                                                                     trips  \\\n",
       "purpose direction period at      triporiggor_b02id band start                \n",
       "1       hb_fr     1      city    4                 0            165.343932   \n",
       "                                                   1           1977.595132   \n",
       "                                                   4           2802.800124   \n",
       "                                                   9           1196.464327   \n",
       "                                                   14          1090.731469   \n",
       "...                                                                    ...   \n",
       "8       nhb       4      village 5                 941            0.000000   \n",
       "                                                   1005           0.000000   \n",
       "                                                   1071           0.000000   \n",
       "                                                   1140           0.000000   \n",
       "                                                   1210           0.000000   \n",
       "\n",
       "                                                               sample size  \\\n",
       "purpose direction period at      triporiggor_b02id band start                \n",
       "1       hb_fr     1      city    4                 0                  8136   \n",
       "                                                   1                  8136   \n",
       "                                                   4                  8136   \n",
       "                                                   9                  8136   \n",
       "                                                   14                 8136   \n",
       "...                                                                    ...   \n",
       "8       nhb       4      village 5                 941                  19   \n",
       "                                                   1005                 19   \n",
       "                                                   1071                 19   \n",
       "                                                   1140                 19   \n",
       "                                                   1210                 19   \n",
       "\n",
       "                                                                 agg trips  \\\n",
       "purpose direction period at      triporiggor_b02id band start                \n",
       "1       hb_fr     1      city    4                 0           9193.188473   \n",
       "                                                   1           9193.188473   \n",
       "                                                   4           9193.188473   \n",
       "                                                   9           9193.188473   \n",
       "                                                   14          9193.188473   \n",
       "...                                                                    ...   \n",
       "8       nhb       4      village 5                 941           17.327568   \n",
       "                                                   1005          17.327568   \n",
       "                                                   1071          17.327568   \n",
       "                                                   1140          17.327568   \n",
       "                                                   1210          17.327568   \n",
       "\n",
       "                                                               norm_trips  \n",
       "purpose direction period at      triporiggor_b02id band start              \n",
       "1       hb_fr     1      city    4                 0             0.017985  \n",
       "                                                   1             0.215115  \n",
       "                                                   4             0.304878  \n",
       "                                                   9             0.130147  \n",
       "                                                   14            0.118646  \n",
       "...                                                                   ...  \n",
       "8       nhb       4      village 5                 941           0.000000  \n",
       "                                                   1005          0.000000  \n",
       "                                                   1071          0.000000  \n",
       "                                                   1140          0.000000  \n",
       "                                                   1210          0.000000  \n",
       "\n",
       "[34040 rows x 4 columns]"
      ]
     },
     "execution_count": 8,
     "metadata": {},
     "output_type": "execute_result"
    }
   ],
   "source": [
    "car.drop([1,2,3,6,7,8,9,10,11], level='triporiggor_b02id')"
   ]
  },
  {
   "cell_type": "code",
   "execution_count": 42,
   "metadata": {},
   "outputs": [],
   "source": [
    "no_tp = car.groupby(level=['purpose', 'direction', 'at', 'triporiggor_b02id', 'band']).sum()"
   ]
  },
  {
   "cell_type": "code",
   "execution_count": 43,
   "metadata": {},
   "outputs": [
    {
     "data": {
      "text/html": [
       "<div>\n",
       "<style scoped>\n",
       "    .dataframe tbody tr th:only-of-type {\n",
       "        vertical-align: middle;\n",
       "    }\n",
       "\n",
       "    .dataframe tbody tr th {\n",
       "        vertical-align: top;\n",
       "    }\n",
       "\n",
       "    .dataframe thead th {\n",
       "        text-align: right;\n",
       "    }\n",
       "</style>\n",
       "<table border=\"1\" class=\"dataframe\">\n",
       "  <thead>\n",
       "    <tr style=\"text-align: right;\">\n",
       "      <th></th>\n",
       "      <th></th>\n",
       "      <th></th>\n",
       "      <th></th>\n",
       "      <th></th>\n",
       "      <th>count</th>\n",
       "      <th>agg_count</th>\n",
       "      <th>norm_trips</th>\n",
       "    </tr>\n",
       "    <tr>\n",
       "      <th>purpose</th>\n",
       "      <th>direction</th>\n",
       "      <th>at</th>\n",
       "      <th>triporiggor_b02id</th>\n",
       "      <th>band</th>\n",
       "      <th></th>\n",
       "      <th></th>\n",
       "      <th></th>\n",
       "    </tr>\n",
       "  </thead>\n",
       "  <tbody>\n",
       "    <tr>\n",
       "      <th rowspan=\"5\" valign=\"top\">1</th>\n",
       "      <th rowspan=\"5\" valign=\"top\">hb_fr</th>\n",
       "      <th rowspan=\"5\" valign=\"top\">city</th>\n",
       "      <th rowspan=\"5\" valign=\"top\">1</th>\n",
       "      <th>0</th>\n",
       "      <td>74</td>\n",
       "      <td>6043</td>\n",
       "      <td>0.119826</td>\n",
       "    </tr>\n",
       "    <tr>\n",
       "      <th>1</th>\n",
       "      <td>1276</td>\n",
       "      <td>6043</td>\n",
       "      <td>1.668411</td>\n",
       "    </tr>\n",
       "    <tr>\n",
       "      <th>4</th>\n",
       "      <td>1590</td>\n",
       "      <td>6043</td>\n",
       "      <td>2.091064</td>\n",
       "    </tr>\n",
       "    <tr>\n",
       "      <th>9</th>\n",
       "      <td>1015</td>\n",
       "      <td>6043</td>\n",
       "      <td>1.121087</td>\n",
       "    </tr>\n",
       "    <tr>\n",
       "      <th>14</th>\n",
       "      <td>982</td>\n",
       "      <td>6043</td>\n",
       "      <td>0.921827</td>\n",
       "    </tr>\n",
       "    <tr>\n",
       "      <th>...</th>\n",
       "      <th>...</th>\n",
       "      <th>...</th>\n",
       "      <th>...</th>\n",
       "      <th>...</th>\n",
       "      <td>...</td>\n",
       "      <td>...</td>\n",
       "      <td>...</td>\n",
       "    </tr>\n",
       "    <tr>\n",
       "      <th rowspan=\"5\" valign=\"top\">8</th>\n",
       "      <th rowspan=\"5\" valign=\"top\">nhb</th>\n",
       "      <th rowspan=\"5\" valign=\"top\">village</th>\n",
       "      <th rowspan=\"5\" valign=\"top\">11</th>\n",
       "      <th>941</th>\n",
       "      <td>0</td>\n",
       "      <td>825</td>\n",
       "      <td>0.000000</td>\n",
       "    </tr>\n",
       "    <tr>\n",
       "      <th>1005</th>\n",
       "      <td>0</td>\n",
       "      <td>825</td>\n",
       "      <td>0.000000</td>\n",
       "    </tr>\n",
       "    <tr>\n",
       "      <th>1071</th>\n",
       "      <td>0</td>\n",
       "      <td>825</td>\n",
       "      <td>0.000000</td>\n",
       "    </tr>\n",
       "    <tr>\n",
       "      <th>1140</th>\n",
       "      <td>0</td>\n",
       "      <td>825</td>\n",
       "      <td>0.000000</td>\n",
       "    </tr>\n",
       "    <tr>\n",
       "      <th>1210</th>\n",
       "      <td>0</td>\n",
       "      <td>825</td>\n",
       "      <td>0.000000</td>\n",
       "    </tr>\n",
       "  </tbody>\n",
       "</table>\n",
       "<p>46694 rows × 3 columns</p>\n",
       "</div>"
      ],
      "text/plain": [
       "                                                  count  agg_count  norm_trips\n",
       "purpose direction at      triporiggor_b02id band                              \n",
       "1       hb_fr     city    1                 0        74       6043    0.119826\n",
       "                                            1      1276       6043    1.668411\n",
       "                                            4      1590       6043    2.091064\n",
       "                                            9      1015       6043    1.121087\n",
       "                                            14      982       6043    0.921827\n",
       "...                                                 ...        ...         ...\n",
       "8       nhb       village 11                941       0        825    0.000000\n",
       "                                            1005      0        825    0.000000\n",
       "                                            1071      0        825    0.000000\n",
       "                                            1140      0        825    0.000000\n",
       "                                            1210      0        825    0.000000\n",
       "\n",
       "[46694 rows x 3 columns]"
      ]
     },
     "execution_count": 43,
     "metadata": {},
     "output_type": "execute_result"
    }
   ],
   "source": [
    "no_tp['norm_trips'] = no_tp['count']"
   ]
  },
  {
   "cell_type": "code",
   "execution_count": 14,
   "metadata": {},
   "outputs": [],
   "source": [
    "training = data.loc[data['sample size'] > 200, 'norm_trips']\n",
    "to_predict = data.loc[data['sample size'] <= 200, 'norm_trips']\n",
    "X = training.index.to_frame()\n",
    "y = training.values\n",
    "X_train, X_test, y_train, y_test = train_test_split(X, y)\n",
    "regr = RandomForestRegressor()"
   ]
  },
  {
   "cell_type": "code",
   "execution_count": 15,
   "metadata": {},
   "outputs": [],
   "source": [
    "score = cross_validate(regr, X, y, cv=5, scoring=(\"r2\"))"
   ]
  },
  {
   "cell_type": "code",
   "execution_count": 18,
   "metadata": {},
   "outputs": [
    {
     "data": {
      "text/html": [
       "<style>#sk-container-id-1 {color: black;}#sk-container-id-1 pre{padding: 0;}#sk-container-id-1 div.sk-toggleable {background-color: white;}#sk-container-id-1 label.sk-toggleable__label {cursor: pointer;display: block;width: 100%;margin-bottom: 0;padding: 0.3em;box-sizing: border-box;text-align: center;}#sk-container-id-1 label.sk-toggleable__label-arrow:before {content: \"▸\";float: left;margin-right: 0.25em;color: #696969;}#sk-container-id-1 label.sk-toggleable__label-arrow:hover:before {color: black;}#sk-container-id-1 div.sk-estimator:hover label.sk-toggleable__label-arrow:before {color: black;}#sk-container-id-1 div.sk-toggleable__content {max-height: 0;max-width: 0;overflow: hidden;text-align: left;background-color: #f0f8ff;}#sk-container-id-1 div.sk-toggleable__content pre {margin: 0.2em;color: black;border-radius: 0.25em;background-color: #f0f8ff;}#sk-container-id-1 input.sk-toggleable__control:checked~div.sk-toggleable__content {max-height: 200px;max-width: 100%;overflow: auto;}#sk-container-id-1 input.sk-toggleable__control:checked~label.sk-toggleable__label-arrow:before {content: \"▾\";}#sk-container-id-1 div.sk-estimator input.sk-toggleable__control:checked~label.sk-toggleable__label {background-color: #d4ebff;}#sk-container-id-1 div.sk-label input.sk-toggleable__control:checked~label.sk-toggleable__label {background-color: #d4ebff;}#sk-container-id-1 input.sk-hidden--visually {border: 0;clip: rect(1px 1px 1px 1px);clip: rect(1px, 1px, 1px, 1px);height: 1px;margin: -1px;overflow: hidden;padding: 0;position: absolute;width: 1px;}#sk-container-id-1 div.sk-estimator {font-family: monospace;background-color: #f0f8ff;border: 1px dotted black;border-radius: 0.25em;box-sizing: border-box;margin-bottom: 0.5em;}#sk-container-id-1 div.sk-estimator:hover {background-color: #d4ebff;}#sk-container-id-1 div.sk-parallel-item::after {content: \"\";width: 100%;border-bottom: 1px solid gray;flex-grow: 1;}#sk-container-id-1 div.sk-label:hover label.sk-toggleable__label {background-color: #d4ebff;}#sk-container-id-1 div.sk-serial::before {content: \"\";position: absolute;border-left: 1px solid gray;box-sizing: border-box;top: 0;bottom: 0;left: 50%;z-index: 0;}#sk-container-id-1 div.sk-serial {display: flex;flex-direction: column;align-items: center;background-color: white;padding-right: 0.2em;padding-left: 0.2em;position: relative;}#sk-container-id-1 div.sk-item {position: relative;z-index: 1;}#sk-container-id-1 div.sk-parallel {display: flex;align-items: stretch;justify-content: center;background-color: white;position: relative;}#sk-container-id-1 div.sk-item::before, #sk-container-id-1 div.sk-parallel-item::before {content: \"\";position: absolute;border-left: 1px solid gray;box-sizing: border-box;top: 0;bottom: 0;left: 50%;z-index: -1;}#sk-container-id-1 div.sk-parallel-item {display: flex;flex-direction: column;z-index: 1;position: relative;background-color: white;}#sk-container-id-1 div.sk-parallel-item:first-child::after {align-self: flex-end;width: 50%;}#sk-container-id-1 div.sk-parallel-item:last-child::after {align-self: flex-start;width: 50%;}#sk-container-id-1 div.sk-parallel-item:only-child::after {width: 0;}#sk-container-id-1 div.sk-dashed-wrapped {border: 1px dashed gray;margin: 0 0.4em 0.5em 0.4em;box-sizing: border-box;padding-bottom: 0.4em;background-color: white;}#sk-container-id-1 div.sk-label label {font-family: monospace;font-weight: bold;display: inline-block;line-height: 1.2em;}#sk-container-id-1 div.sk-label-container {text-align: center;}#sk-container-id-1 div.sk-container {/* jupyter's `normalize.less` sets `[hidden] { display: none; }` but bootstrap.min.css set `[hidden] { display: none !important; }` so we also need the `!important` here to be able to override the default hidden behavior on the sphinx rendered scikit-learn.org. See: https://github.com/scikit-learn/scikit-learn/issues/21755 */display: inline-block !important;position: relative;}#sk-container-id-1 div.sk-text-repr-fallback {display: none;}</style><div id=\"sk-container-id-1\" class=\"sk-top-container\"><div class=\"sk-text-repr-fallback\"><pre>RandomForestRegressor()</pre><b>In a Jupyter environment, please rerun this cell to show the HTML representation or trust the notebook. <br />On GitHub, the HTML representation is unable to render, please try loading this page with nbviewer.org.</b></div><div class=\"sk-container\" hidden><div class=\"sk-item\"><div class=\"sk-estimator sk-toggleable\"><input class=\"sk-toggleable__control sk-hidden--visually\" id=\"sk-estimator-id-1\" type=\"checkbox\" checked><label for=\"sk-estimator-id-1\" class=\"sk-toggleable__label sk-toggleable__label-arrow\">RandomForestRegressor</label><div class=\"sk-toggleable__content\"><pre>RandomForestRegressor()</pre></div></div></div></div></div>"
      ],
      "text/plain": [
       "RandomForestRegressor()"
      ]
     },
     "execution_count": 18,
     "metadata": {},
     "output_type": "execute_result"
    }
   ],
   "source": [
    "regr.fit(X, y)"
   ]
  },
  {
   "cell_type": "code",
   "execution_count": 19,
   "metadata": {},
   "outputs": [],
   "source": [
    "\n",
    "pred = regr.predict(to_predict.index.to_frame())"
   ]
  },
  {
   "cell_type": "code",
   "execution_count": 26,
   "metadata": {},
   "outputs": [],
   "source": [
    "clean_to_pred = simple_ind[simple_ind['sample size'] <= 200]"
   ]
  },
  {
   "cell_type": "code",
   "execution_count": 28,
   "metadata": {},
   "outputs": [
    {
     "name": "stderr",
     "output_type": "stream",
     "text": [
      "C:\\Users\\Predator\\AppData\\Local\\Temp\\ipykernel_4092\\4261564238.py:1: SettingWithCopyWarning: \n",
      "A value is trying to be set on a copy of a slice from a DataFrame.\n",
      "Try using .loc[row_indexer,col_indexer] = value instead\n",
      "\n",
      "See the caveats in the documentation: https://pandas.pydata.org/pandas-docs/stable/user_guide/indexing.html#returning-a-view-versus-a-copy\n",
      "  clean_to_pred['predicted_trips'] = pred\n"
     ]
    }
   ],
   "source": [
    "clean_to_pred['predicted_trips'] = pred"
   ]
  },
  {
   "cell_type": "code",
   "execution_count": 30,
   "metadata": {},
   "outputs": [],
   "source": [
    "to_predict = to_predict.to_frame()"
   ]
  },
  {
   "cell_type": "code",
   "execution_count": 36,
   "metadata": {},
   "outputs": [],
   "source": [
    "to_predict['predicted'] = pred"
   ]
  },
  {
   "cell_type": "code",
   "execution_count": 37,
   "metadata": {},
   "outputs": [
    {
     "data": {
      "text/html": [
       "<div>\n",
       "<style scoped>\n",
       "    .dataframe tbody tr th:only-of-type {\n",
       "        vertical-align: middle;\n",
       "    }\n",
       "\n",
       "    .dataframe tbody tr th {\n",
       "        vertical-align: top;\n",
       "    }\n",
       "\n",
       "    .dataframe thead th {\n",
       "        text-align: right;\n",
       "    }\n",
       "</style>\n",
       "<table border=\"1\" class=\"dataframe\">\n",
       "  <thead>\n",
       "    <tr style=\"text-align: right;\">\n",
       "      <th></th>\n",
       "      <th></th>\n",
       "      <th></th>\n",
       "      <th></th>\n",
       "      <th></th>\n",
       "      <th></th>\n",
       "      <th></th>\n",
       "      <th></th>\n",
       "      <th></th>\n",
       "      <th></th>\n",
       "      <th></th>\n",
       "      <th></th>\n",
       "      <th></th>\n",
       "      <th></th>\n",
       "      <th></th>\n",
       "      <th></th>\n",
       "      <th></th>\n",
       "      <th></th>\n",
       "      <th></th>\n",
       "      <th></th>\n",
       "      <th></th>\n",
       "      <th></th>\n",
       "      <th></th>\n",
       "      <th></th>\n",
       "      <th></th>\n",
       "      <th></th>\n",
       "      <th></th>\n",
       "      <th></th>\n",
       "      <th></th>\n",
       "      <th></th>\n",
       "      <th></th>\n",
       "      <th></th>\n",
       "      <th></th>\n",
       "      <th></th>\n",
       "      <th></th>\n",
       "      <th></th>\n",
       "      <th></th>\n",
       "      <th></th>\n",
       "      <th></th>\n",
       "      <th></th>\n",
       "      <th></th>\n",
       "      <th></th>\n",
       "      <th></th>\n",
       "      <th></th>\n",
       "      <th></th>\n",
       "      <th></th>\n",
       "      <th></th>\n",
       "      <th></th>\n",
       "      <th></th>\n",
       "      <th></th>\n",
       "      <th></th>\n",
       "      <th></th>\n",
       "      <th></th>\n",
       "      <th></th>\n",
       "      <th></th>\n",
       "      <th></th>\n",
       "      <th></th>\n",
       "      <th></th>\n",
       "      <th></th>\n",
       "      <th></th>\n",
       "      <th></th>\n",
       "      <th></th>\n",
       "      <th></th>\n",
       "      <th></th>\n",
       "      <th>norm_trips</th>\n",
       "      <th>predicted</th>\n",
       "    </tr>\n",
       "    <tr>\n",
       "      <th>mode_1</th>\n",
       "      <th>mode_2</th>\n",
       "      <th>mode_3</th>\n",
       "      <th>mode_4</th>\n",
       "      <th>mode_5</th>\n",
       "      <th>mode_6</th>\n",
       "      <th>mode_7</th>\n",
       "      <th>mode_8</th>\n",
       "      <th>purpose_hb_fr</th>\n",
       "      <th>purpose_hb_to</th>\n",
       "      <th>purpose_nhb</th>\n",
       "      <th>direction_1</th>\n",
       "      <th>direction_2</th>\n",
       "      <th>direction_3</th>\n",
       "      <th>direction_4</th>\n",
       "      <th>period_city</th>\n",
       "      <th>period_major</th>\n",
       "      <th>period_minor</th>\n",
       "      <th>period_town</th>\n",
       "      <th>period_village</th>\n",
       "      <th>at_0</th>\n",
       "      <th>at_1</th>\n",
       "      <th>at_2</th>\n",
       "      <th>at_3</th>\n",
       "      <th>at_4</th>\n",
       "      <th>at_5</th>\n",
       "      <th>at_6</th>\n",
       "      <th>at_7</th>\n",
       "      <th>at_8</th>\n",
       "      <th>at_9</th>\n",
       "      <th>at_10</th>\n",
       "      <th>at_11</th>\n",
       "      <th>triporiggor_b02id_0</th>\n",
       "      <th>triporiggor_b02id_2</th>\n",
       "      <th>triporiggor_b02id_5</th>\n",
       "      <th>triporiggor_b02id_9</th>\n",
       "      <th>triporiggor_b02id_15</th>\n",
       "      <th>triporiggor_b02id_23</th>\n",
       "      <th>triporiggor_b02id_32</th>\n",
       "      <th>triporiggor_b02id_43</th>\n",
       "      <th>triporiggor_b02id_56</th>\n",
       "      <th>triporiggor_b02id_71</th>\n",
       "      <th>triporiggor_b02id_88</th>\n",
       "      <th>triporiggor_b02id_106</th>\n",
       "      <th>triporiggor_b02id_127</th>\n",
       "      <th>triporiggor_b02id_149</th>\n",
       "      <th>triporiggor_b02id_174</th>\n",
       "      <th>triporiggor_b02id_200</th>\n",
       "      <th>triporiggor_b02id_229</th>\n",
       "      <th>triporiggor_b02id_260</th>\n",
       "      <th>triporiggor_b02id_292</th>\n",
       "      <th>triporiggor_b02id_327</th>\n",
       "      <th>triporiggor_b02id_365</th>\n",
       "      <th>triporiggor_b02id_404</th>\n",
       "      <th>triporiggor_b02id_446</th>\n",
       "      <th>triporiggor_b02id_489</th>\n",
       "      <th>triporiggor_b02id_535</th>\n",
       "      <th>triporiggor_b02id_584</th>\n",
       "      <th>triporiggor_b02id_634</th>\n",
       "      <th>triporiggor_b02id_687</th>\n",
       "      <th>triporiggor_b02id_742</th>\n",
       "      <th>triporiggor_b02id_800</th>\n",
       "      <th>triporiggor_b02id_860</th>\n",
       "      <th>triporiggor_b02id_922</th>\n",
       "      <th></th>\n",
       "      <th></th>\n",
       "    </tr>\n",
       "  </thead>\n",
       "  <tbody>\n",
       "    <tr>\n",
       "      <th rowspan=\"5\" valign=\"top\">1.0</th>\n",
       "      <th rowspan=\"5\" valign=\"top\">0.0</th>\n",
       "      <th rowspan=\"5\" valign=\"top\">0.0</th>\n",
       "      <th rowspan=\"5\" valign=\"top\">0.0</th>\n",
       "      <th rowspan=\"5\" valign=\"top\">0.0</th>\n",
       "      <th rowspan=\"5\" valign=\"top\">0.0</th>\n",
       "      <th rowspan=\"5\" valign=\"top\">0.0</th>\n",
       "      <th rowspan=\"5\" valign=\"top\">0.0</th>\n",
       "      <th rowspan=\"5\" valign=\"top\">1.0</th>\n",
       "      <th rowspan=\"5\" valign=\"top\">0.0</th>\n",
       "      <th rowspan=\"5\" valign=\"top\">0.0</th>\n",
       "      <th rowspan=\"5\" valign=\"top\">1.0</th>\n",
       "      <th rowspan=\"5\" valign=\"top\">0.0</th>\n",
       "      <th rowspan=\"5\" valign=\"top\">0.0</th>\n",
       "      <th rowspan=\"5\" valign=\"top\">0.0</th>\n",
       "      <th rowspan=\"5\" valign=\"top\">1.0</th>\n",
       "      <th rowspan=\"5\" valign=\"top\">0.0</th>\n",
       "      <th rowspan=\"5\" valign=\"top\">0.0</th>\n",
       "      <th rowspan=\"5\" valign=\"top\">0.0</th>\n",
       "      <th rowspan=\"5\" valign=\"top\">0.0</th>\n",
       "      <th rowspan=\"5\" valign=\"top\">0.0</th>\n",
       "      <th rowspan=\"5\" valign=\"top\">0.0</th>\n",
       "      <th rowspan=\"5\" valign=\"top\">0.0</th>\n",
       "      <th rowspan=\"5\" valign=\"top\">0.0</th>\n",
       "      <th rowspan=\"5\" valign=\"top\">0.0</th>\n",
       "      <th rowspan=\"5\" valign=\"top\">0.0</th>\n",
       "      <th rowspan=\"5\" valign=\"top\">0.0</th>\n",
       "      <th rowspan=\"5\" valign=\"top\">1.0</th>\n",
       "      <th rowspan=\"5\" valign=\"top\">0.0</th>\n",
       "      <th rowspan=\"5\" valign=\"top\">0.0</th>\n",
       "      <th rowspan=\"5\" valign=\"top\">0.0</th>\n",
       "      <th rowspan=\"5\" valign=\"top\">0.0</th>\n",
       "      <th>1.0</th>\n",
       "      <th>0.0</th>\n",
       "      <th>0.0</th>\n",
       "      <th>0.0</th>\n",
       "      <th>0.0</th>\n",
       "      <th>0.0</th>\n",
       "      <th>0.0</th>\n",
       "      <th>0.0</th>\n",
       "      <th>0.0</th>\n",
       "      <th>0.0</th>\n",
       "      <th>0.0</th>\n",
       "      <th>0.0</th>\n",
       "      <th>0.0</th>\n",
       "      <th>0.0</th>\n",
       "      <th>0.0</th>\n",
       "      <th>0.0</th>\n",
       "      <th>0.0</th>\n",
       "      <th>0.0</th>\n",
       "      <th>0.0</th>\n",
       "      <th>0.0</th>\n",
       "      <th>0.0</th>\n",
       "      <th>0.0</th>\n",
       "      <th>0.0</th>\n",
       "      <th>0.0</th>\n",
       "      <th>0.0</th>\n",
       "      <th>0.0</th>\n",
       "      <th>0.0</th>\n",
       "      <th>0.0</th>\n",
       "      <th>0.0</th>\n",
       "      <th>0.0</th>\n",
       "      <th>0.0</th>\n",
       "      <th>0.0</th>\n",
       "      <td>0.110546</td>\n",
       "      <td>0.068337</td>\n",
       "    </tr>\n",
       "    <tr>\n",
       "      <th rowspan=\"4\" valign=\"top\">0.0</th>\n",
       "      <th>1.0</th>\n",
       "      <th>0.0</th>\n",
       "      <th>0.0</th>\n",
       "      <th>0.0</th>\n",
       "      <th>0.0</th>\n",
       "      <th>0.0</th>\n",
       "      <th>0.0</th>\n",
       "      <th>0.0</th>\n",
       "      <th>0.0</th>\n",
       "      <th>0.0</th>\n",
       "      <th>0.0</th>\n",
       "      <th>0.0</th>\n",
       "      <th>0.0</th>\n",
       "      <th>0.0</th>\n",
       "      <th>0.0</th>\n",
       "      <th>0.0</th>\n",
       "      <th>0.0</th>\n",
       "      <th>0.0</th>\n",
       "      <th>0.0</th>\n",
       "      <th>0.0</th>\n",
       "      <th>0.0</th>\n",
       "      <th>0.0</th>\n",
       "      <th>0.0</th>\n",
       "      <th>0.0</th>\n",
       "      <th>0.0</th>\n",
       "      <th>0.0</th>\n",
       "      <th>0.0</th>\n",
       "      <th>0.0</th>\n",
       "      <th>0.0</th>\n",
       "      <th>0.0</th>\n",
       "      <th>0.0</th>\n",
       "      <td>0.0</td>\n",
       "      <td>0.117548</td>\n",
       "    </tr>\n",
       "    <tr>\n",
       "      <th rowspan=\"3\" valign=\"top\">0.0</th>\n",
       "      <th>1.0</th>\n",
       "      <th>0.0</th>\n",
       "      <th>0.0</th>\n",
       "      <th>0.0</th>\n",
       "      <th>0.0</th>\n",
       "      <th>0.0</th>\n",
       "      <th>0.0</th>\n",
       "      <th>0.0</th>\n",
       "      <th>0.0</th>\n",
       "      <th>0.0</th>\n",
       "      <th>0.0</th>\n",
       "      <th>0.0</th>\n",
       "      <th>0.0</th>\n",
       "      <th>0.0</th>\n",
       "      <th>0.0</th>\n",
       "      <th>0.0</th>\n",
       "      <th>0.0</th>\n",
       "      <th>0.0</th>\n",
       "      <th>0.0</th>\n",
       "      <th>0.0</th>\n",
       "      <th>0.0</th>\n",
       "      <th>0.0</th>\n",
       "      <th>0.0</th>\n",
       "      <th>0.0</th>\n",
       "      <th>0.0</th>\n",
       "      <th>0.0</th>\n",
       "      <th>0.0</th>\n",
       "      <th>0.0</th>\n",
       "      <th>0.0</th>\n",
       "      <th>0.0</th>\n",
       "      <td>0.287931</td>\n",
       "      <td>0.080776</td>\n",
       "    </tr>\n",
       "    <tr>\n",
       "      <th rowspan=\"2\" valign=\"top\">0.0</th>\n",
       "      <th>1.0</th>\n",
       "      <th>0.0</th>\n",
       "      <th>0.0</th>\n",
       "      <th>0.0</th>\n",
       "      <th>0.0</th>\n",
       "      <th>0.0</th>\n",
       "      <th>0.0</th>\n",
       "      <th>0.0</th>\n",
       "      <th>0.0</th>\n",
       "      <th>0.0</th>\n",
       "      <th>0.0</th>\n",
       "      <th>0.0</th>\n",
       "      <th>0.0</th>\n",
       "      <th>0.0</th>\n",
       "      <th>0.0</th>\n",
       "      <th>0.0</th>\n",
       "      <th>0.0</th>\n",
       "      <th>0.0</th>\n",
       "      <th>0.0</th>\n",
       "      <th>0.0</th>\n",
       "      <th>0.0</th>\n",
       "      <th>0.0</th>\n",
       "      <th>0.0</th>\n",
       "      <th>0.0</th>\n",
       "      <th>0.0</th>\n",
       "      <th>0.0</th>\n",
       "      <th>0.0</th>\n",
       "      <th>0.0</th>\n",
       "      <th>0.0</th>\n",
       "      <td>0.419618</td>\n",
       "      <td>0.071151</td>\n",
       "    </tr>\n",
       "    <tr>\n",
       "      <th>0.0</th>\n",
       "      <th>1.0</th>\n",
       "      <th>0.0</th>\n",
       "      <th>0.0</th>\n",
       "      <th>0.0</th>\n",
       "      <th>0.0</th>\n",
       "      <th>0.0</th>\n",
       "      <th>0.0</th>\n",
       "      <th>0.0</th>\n",
       "      <th>0.0</th>\n",
       "      <th>0.0</th>\n",
       "      <th>0.0</th>\n",
       "      <th>0.0</th>\n",
       "      <th>0.0</th>\n",
       "      <th>0.0</th>\n",
       "      <th>0.0</th>\n",
       "      <th>0.0</th>\n",
       "      <th>0.0</th>\n",
       "      <th>0.0</th>\n",
       "      <th>0.0</th>\n",
       "      <th>0.0</th>\n",
       "      <th>0.0</th>\n",
       "      <th>0.0</th>\n",
       "      <th>0.0</th>\n",
       "      <th>0.0</th>\n",
       "      <th>0.0</th>\n",
       "      <th>0.0</th>\n",
       "      <th>0.0</th>\n",
       "      <th>0.0</th>\n",
       "      <td>0.035945</td>\n",
       "      <td>0.123280</td>\n",
       "    </tr>\n",
       "    <tr>\n",
       "      <th>...</th>\n",
       "      <th>...</th>\n",
       "      <th>...</th>\n",
       "      <th>...</th>\n",
       "      <th>...</th>\n",
       "      <th>...</th>\n",
       "      <th>...</th>\n",
       "      <th>...</th>\n",
       "      <th>...</th>\n",
       "      <th>...</th>\n",
       "      <th>...</th>\n",
       "      <th>...</th>\n",
       "      <th>...</th>\n",
       "      <th>...</th>\n",
       "      <th>...</th>\n",
       "      <th>...</th>\n",
       "      <th>...</th>\n",
       "      <th>...</th>\n",
       "      <th>...</th>\n",
       "      <th>...</th>\n",
       "      <th>...</th>\n",
       "      <th>...</th>\n",
       "      <th>...</th>\n",
       "      <th>...</th>\n",
       "      <th>...</th>\n",
       "      <th>...</th>\n",
       "      <th>...</th>\n",
       "      <th>...</th>\n",
       "      <th>...</th>\n",
       "      <th>...</th>\n",
       "      <th>...</th>\n",
       "      <th>...</th>\n",
       "      <th>...</th>\n",
       "      <th>...</th>\n",
       "      <th>...</th>\n",
       "      <th>...</th>\n",
       "      <th>...</th>\n",
       "      <th>...</th>\n",
       "      <th>...</th>\n",
       "      <th>...</th>\n",
       "      <th>...</th>\n",
       "      <th>...</th>\n",
       "      <th>...</th>\n",
       "      <th>...</th>\n",
       "      <th>...</th>\n",
       "      <th>...</th>\n",
       "      <th>...</th>\n",
       "      <th>...</th>\n",
       "      <th>...</th>\n",
       "      <th>...</th>\n",
       "      <th>...</th>\n",
       "      <th>...</th>\n",
       "      <th>...</th>\n",
       "      <th>...</th>\n",
       "      <th>...</th>\n",
       "      <th>...</th>\n",
       "      <th>...</th>\n",
       "      <th>...</th>\n",
       "      <th>...</th>\n",
       "      <th>...</th>\n",
       "      <th>...</th>\n",
       "      <th>...</th>\n",
       "      <th>...</th>\n",
       "      <th>...</th>\n",
       "      <td>...</td>\n",
       "      <td>...</td>\n",
       "    </tr>\n",
       "    <tr>\n",
       "      <th rowspan=\"5\" valign=\"top\">0.0</th>\n",
       "      <th rowspan=\"5\" valign=\"top\">0.0</th>\n",
       "      <th rowspan=\"5\" valign=\"top\">0.0</th>\n",
       "      <th rowspan=\"5\" valign=\"top\">0.0</th>\n",
       "      <th rowspan=\"5\" valign=\"top\">0.0</th>\n",
       "      <th rowspan=\"5\" valign=\"top\">0.0</th>\n",
       "      <th rowspan=\"5\" valign=\"top\">0.0</th>\n",
       "      <th rowspan=\"5\" valign=\"top\">1.0</th>\n",
       "      <th rowspan=\"5\" valign=\"top\">0.0</th>\n",
       "      <th rowspan=\"5\" valign=\"top\">0.0</th>\n",
       "      <th rowspan=\"5\" valign=\"top\">1.0</th>\n",
       "      <th rowspan=\"5\" valign=\"top\">0.0</th>\n",
       "      <th rowspan=\"5\" valign=\"top\">0.0</th>\n",
       "      <th rowspan=\"5\" valign=\"top\">0.0</th>\n",
       "      <th rowspan=\"5\" valign=\"top\">1.0</th>\n",
       "      <th rowspan=\"5\" valign=\"top\">0.0</th>\n",
       "      <th rowspan=\"5\" valign=\"top\">0.0</th>\n",
       "      <th rowspan=\"5\" valign=\"top\">0.0</th>\n",
       "      <th rowspan=\"5\" valign=\"top\">0.0</th>\n",
       "      <th rowspan=\"5\" valign=\"top\">1.0</th>\n",
       "      <th rowspan=\"5\" valign=\"top\">0.0</th>\n",
       "      <th rowspan=\"5\" valign=\"top\">0.0</th>\n",
       "      <th rowspan=\"5\" valign=\"top\">0.0</th>\n",
       "      <th rowspan=\"5\" valign=\"top\">0.0</th>\n",
       "      <th rowspan=\"5\" valign=\"top\">0.0</th>\n",
       "      <th rowspan=\"5\" valign=\"top\">0.0</th>\n",
       "      <th rowspan=\"5\" valign=\"top\">0.0</th>\n",
       "      <th rowspan=\"5\" valign=\"top\">0.0</th>\n",
       "      <th rowspan=\"5\" valign=\"top\">0.0</th>\n",
       "      <th rowspan=\"5\" valign=\"top\">0.0</th>\n",
       "      <th rowspan=\"5\" valign=\"top\">0.0</th>\n",
       "      <th rowspan=\"5\" valign=\"top\">1.0</th>\n",
       "      <th rowspan=\"5\" valign=\"top\">0.0</th>\n",
       "      <th rowspan=\"5\" valign=\"top\">0.0</th>\n",
       "      <th rowspan=\"5\" valign=\"top\">0.0</th>\n",
       "      <th rowspan=\"5\" valign=\"top\">0.0</th>\n",
       "      <th rowspan=\"5\" valign=\"top\">0.0</th>\n",
       "      <th rowspan=\"5\" valign=\"top\">0.0</th>\n",
       "      <th rowspan=\"5\" valign=\"top\">0.0</th>\n",
       "      <th rowspan=\"5\" valign=\"top\">0.0</th>\n",
       "      <th rowspan=\"5\" valign=\"top\">0.0</th>\n",
       "      <th rowspan=\"5\" valign=\"top\">0.0</th>\n",
       "      <th rowspan=\"5\" valign=\"top\">0.0</th>\n",
       "      <th rowspan=\"5\" valign=\"top\">0.0</th>\n",
       "      <th rowspan=\"5\" valign=\"top\">0.0</th>\n",
       "      <th rowspan=\"5\" valign=\"top\">0.0</th>\n",
       "      <th rowspan=\"5\" valign=\"top\">0.0</th>\n",
       "      <th rowspan=\"5\" valign=\"top\">0.0</th>\n",
       "      <th rowspan=\"5\" valign=\"top\">0.0</th>\n",
       "      <th rowspan=\"5\" valign=\"top\">0.0</th>\n",
       "      <th rowspan=\"5\" valign=\"top\">0.0</th>\n",
       "      <th rowspan=\"5\" valign=\"top\">0.0</th>\n",
       "      <th rowspan=\"5\" valign=\"top\">0.0</th>\n",
       "      <th rowspan=\"5\" valign=\"top\">0.0</th>\n",
       "      <th rowspan=\"5\" valign=\"top\">0.0</th>\n",
       "      <th rowspan=\"5\" valign=\"top\">0.0</th>\n",
       "      <th rowspan=\"5\" valign=\"top\">0.0</th>\n",
       "      <th rowspan=\"5\" valign=\"top\">0.0</th>\n",
       "      <th rowspan=\"5\" valign=\"top\">0.0</th>\n",
       "      <th>1.0</th>\n",
       "      <th>0.0</th>\n",
       "      <th>0.0</th>\n",
       "      <th>0.0</th>\n",
       "      <th>0.0</th>\n",
       "      <td>0.0</td>\n",
       "      <td>0.000000</td>\n",
       "    </tr>\n",
       "    <tr>\n",
       "      <th rowspan=\"4\" valign=\"top\">0.0</th>\n",
       "      <th>1.0</th>\n",
       "      <th>0.0</th>\n",
       "      <th>0.0</th>\n",
       "      <th>0.0</th>\n",
       "      <td>0.0</td>\n",
       "      <td>0.000000</td>\n",
       "    </tr>\n",
       "    <tr>\n",
       "      <th rowspan=\"3\" valign=\"top\">0.0</th>\n",
       "      <th>1.0</th>\n",
       "      <th>0.0</th>\n",
       "      <th>0.0</th>\n",
       "      <td>0.0</td>\n",
       "      <td>0.000000</td>\n",
       "    </tr>\n",
       "    <tr>\n",
       "      <th rowspan=\"2\" valign=\"top\">0.0</th>\n",
       "      <th>1.0</th>\n",
       "      <th>0.0</th>\n",
       "      <td>0.0</td>\n",
       "      <td>0.000000</td>\n",
       "    </tr>\n",
       "    <tr>\n",
       "      <th>0.0</th>\n",
       "      <th>1.0</th>\n",
       "      <td>0.0</td>\n",
       "      <td>0.000000</td>\n",
       "    </tr>\n",
       "  </tbody>\n",
       "</table>\n",
       "<p>78208 rows × 2 columns</p>\n",
       "</div>"
      ],
      "text/plain": [
       "                                                                                                                                                                                                                                                                                                                                                                                                                                                                                                                                                                                                                                                                                                                                                                                                                                                                                                                                                                                                norm_trips  \\\n",
       "mode_1 mode_2 mode_3 mode_4 mode_5 mode_6 mode_7 mode_8 purpose_hb_fr purpose_hb_to purpose_nhb direction_1 direction_2 direction_3 direction_4 period_city period_major period_minor period_town period_village at_0 at_1 at_2 at_3 at_4 at_5 at_6 at_7 at_8 at_9 at_10 at_11 triporiggor_b02id_0 triporiggor_b02id_2 triporiggor_b02id_5 triporiggor_b02id_9 triporiggor_b02id_15 triporiggor_b02id_23 triporiggor_b02id_32 triporiggor_b02id_43 triporiggor_b02id_56 triporiggor_b02id_71 triporiggor_b02id_88 triporiggor_b02id_106 triporiggor_b02id_127 triporiggor_b02id_149 triporiggor_b02id_174 triporiggor_b02id_200 triporiggor_b02id_229 triporiggor_b02id_260 triporiggor_b02id_292 triporiggor_b02id_327 triporiggor_b02id_365 triporiggor_b02id_404 triporiggor_b02id_446 triporiggor_b02id_489 triporiggor_b02id_535 triporiggor_b02id_584 triporiggor_b02id_634 triporiggor_b02id_687 triporiggor_b02id_742 triporiggor_b02id_800 triporiggor_b02id_860 triporiggor_b02id_922              \n",
       "1.0    0.0    0.0    0.0    0.0    0.0    0.0    0.0    1.0           0.0           0.0         1.0         0.0         0.0         0.0         1.0         0.0          0.0          0.0         0.0            0.0  0.0  0.0  0.0  0.0  0.0  0.0  1.0  0.0  0.0  0.0   0.0   1.0                 0.0                 0.0                 0.0                 0.0                  0.0                  0.0                  0.0                  0.0                  0.0                  0.0                  0.0                   0.0                   0.0                   0.0                   0.0                   0.0                   0.0                   0.0                   0.0                   0.0                   0.0                   0.0                   0.0                   0.0                   0.0                   0.0                   0.0                   0.0                   0.0                   0.0                   0.0                     0.110546   \n",
       "                                                                                                                                                                                                                                                                               0.0                 1.0                 0.0                 0.0                 0.0                  0.0                  0.0                  0.0                  0.0                  0.0                  0.0                  0.0                   0.0                   0.0                   0.0                   0.0                   0.0                   0.0                   0.0                   0.0                   0.0                   0.0                   0.0                   0.0                   0.0                   0.0                   0.0                   0.0                   0.0                   0.0                   0.0                   0.0                          0.0   \n",
       "                                                                                                                                                                                                                                                                                                   0.0                 1.0                 0.0                 0.0                  0.0                  0.0                  0.0                  0.0                  0.0                  0.0                  0.0                   0.0                   0.0                   0.0                   0.0                   0.0                   0.0                   0.0                   0.0                   0.0                   0.0                   0.0                   0.0                   0.0                   0.0                   0.0                   0.0                   0.0                   0.0                   0.0                   0.0                     0.287931   \n",
       "                                                                                                                                                                                                                                                                                                                       0.0                 1.0                 0.0                  0.0                  0.0                  0.0                  0.0                  0.0                  0.0                  0.0                   0.0                   0.0                   0.0                   0.0                   0.0                   0.0                   0.0                   0.0                   0.0                   0.0                   0.0                   0.0                   0.0                   0.0                   0.0                   0.0                   0.0                   0.0                   0.0                   0.0                     0.419618   \n",
       "                                                                                                                                                                                                                                                                                                                                           0.0                 1.0                  0.0                  0.0                  0.0                  0.0                  0.0                  0.0                  0.0                   0.0                   0.0                   0.0                   0.0                   0.0                   0.0                   0.0                   0.0                   0.0                   0.0                   0.0                   0.0                   0.0                   0.0                   0.0                   0.0                   0.0                   0.0                   0.0                   0.0                     0.035945   \n",
       "...                                                                                                                                                                                                                                                                                                                                                                                                                                                                                                                                                                                                                                                                                                                                                                                                                                                                                                                                                                                                    ...   \n",
       "0.0    0.0    0.0    0.0    0.0    0.0    0.0    1.0    0.0           0.0           1.0         0.0         0.0         0.0         1.0         0.0         0.0          0.0          0.0         1.0            0.0  0.0  0.0  0.0  0.0  0.0  0.0  0.0  0.0  0.0  0.0   1.0   0.0                 0.0                 0.0                 0.0                 0.0                  0.0                  0.0                  0.0                  0.0                  0.0                  0.0                  0.0                   0.0                   0.0                   0.0                   0.0                   0.0                   0.0                   0.0                   0.0                   0.0                   0.0                   0.0                   0.0                   0.0                   0.0                   0.0                   1.0                   0.0                   0.0                   0.0                   0.0                          0.0   \n",
       "                                                                                                                                                                                                                                                                                                                                                                                                                                                                                                                                                                                                                                                                                                                                                                                                                                                                                  0.0                   1.0                   0.0                   0.0                   0.0                          0.0   \n",
       "                                                                                                                                                                                                                                                                                                                                                                                                                                                                                                                                                                                                                                                                                                                                                                                                                                                                                                        0.0                   1.0                   0.0                   0.0                          0.0   \n",
       "                                                                                                                                                                                                                                                                                                                                                                                                                                                                                                                                                                                                                                                                                                                                                                                                                                                                                                                              0.0                   1.0                   0.0                          0.0   \n",
       "                                                                                                                                                                                                                                                                                                                                                                                                                                                                                                                                                                                                                                                                                                                                                                                                                                                                                                                                                    0.0                   1.0                          0.0   \n",
       "\n",
       "                                                                                                                                                                                                                                                                                                                                                                                                                                                                                                                                                                                                                                                                                                                                                                                                                                                                                                                                                                                                 predicted  \n",
       "mode_1 mode_2 mode_3 mode_4 mode_5 mode_6 mode_7 mode_8 purpose_hb_fr purpose_hb_to purpose_nhb direction_1 direction_2 direction_3 direction_4 period_city period_major period_minor period_town period_village at_0 at_1 at_2 at_3 at_4 at_5 at_6 at_7 at_8 at_9 at_10 at_11 triporiggor_b02id_0 triporiggor_b02id_2 triporiggor_b02id_5 triporiggor_b02id_9 triporiggor_b02id_15 triporiggor_b02id_23 triporiggor_b02id_32 triporiggor_b02id_43 triporiggor_b02id_56 triporiggor_b02id_71 triporiggor_b02id_88 triporiggor_b02id_106 triporiggor_b02id_127 triporiggor_b02id_149 triporiggor_b02id_174 triporiggor_b02id_200 triporiggor_b02id_229 triporiggor_b02id_260 triporiggor_b02id_292 triporiggor_b02id_327 triporiggor_b02id_365 triporiggor_b02id_404 triporiggor_b02id_446 triporiggor_b02id_489 triporiggor_b02id_535 triporiggor_b02id_584 triporiggor_b02id_634 triporiggor_b02id_687 triporiggor_b02id_742 triporiggor_b02id_800 triporiggor_b02id_860 triporiggor_b02id_922             \n",
       "1.0    0.0    0.0    0.0    0.0    0.0    0.0    0.0    1.0           0.0           0.0         1.0         0.0         0.0         0.0         1.0         0.0          0.0          0.0         0.0            0.0  0.0  0.0  0.0  0.0  0.0  0.0  1.0  0.0  0.0  0.0   0.0   1.0                 0.0                 0.0                 0.0                 0.0                  0.0                  0.0                  0.0                  0.0                  0.0                  0.0                  0.0                   0.0                   0.0                   0.0                   0.0                   0.0                   0.0                   0.0                   0.0                   0.0                   0.0                   0.0                   0.0                   0.0                   0.0                   0.0                   0.0                   0.0                   0.0                   0.0                   0.0                     0.068337  \n",
       "                                                                                                                                                                                                                                                                               0.0                 1.0                 0.0                 0.0                 0.0                  0.0                  0.0                  0.0                  0.0                  0.0                  0.0                  0.0                   0.0                   0.0                   0.0                   0.0                   0.0                   0.0                   0.0                   0.0                   0.0                   0.0                   0.0                   0.0                   0.0                   0.0                   0.0                   0.0                   0.0                   0.0                   0.0                   0.0                     0.117548  \n",
       "                                                                                                                                                                                                                                                                                                   0.0                 1.0                 0.0                 0.0                  0.0                  0.0                  0.0                  0.0                  0.0                  0.0                  0.0                   0.0                   0.0                   0.0                   0.0                   0.0                   0.0                   0.0                   0.0                   0.0                   0.0                   0.0                   0.0                   0.0                   0.0                   0.0                   0.0                   0.0                   0.0                   0.0                   0.0                     0.080776  \n",
       "                                                                                                                                                                                                                                                                                                                       0.0                 1.0                 0.0                  0.0                  0.0                  0.0                  0.0                  0.0                  0.0                  0.0                   0.0                   0.0                   0.0                   0.0                   0.0                   0.0                   0.0                   0.0                   0.0                   0.0                   0.0                   0.0                   0.0                   0.0                   0.0                   0.0                   0.0                   0.0                   0.0                   0.0                     0.071151  \n",
       "                                                                                                                                                                                                                                                                                                                                           0.0                 1.0                  0.0                  0.0                  0.0                  0.0                  0.0                  0.0                  0.0                   0.0                   0.0                   0.0                   0.0                   0.0                   0.0                   0.0                   0.0                   0.0                   0.0                   0.0                   0.0                   0.0                   0.0                   0.0                   0.0                   0.0                   0.0                   0.0                   0.0                     0.123280  \n",
       "...                                                                                                                                                                                                                                                                                                                                                                                                                                                                                                                                                                                                                                                                                                                                                                                                                                                                                                                                                                                                    ...  \n",
       "0.0    0.0    0.0    0.0    0.0    0.0    0.0    1.0    0.0           0.0           1.0         0.0         0.0         0.0         1.0         0.0         0.0          0.0          0.0         1.0            0.0  0.0  0.0  0.0  0.0  0.0  0.0  0.0  0.0  0.0  0.0   1.0   0.0                 0.0                 0.0                 0.0                 0.0                  0.0                  0.0                  0.0                  0.0                  0.0                  0.0                  0.0                   0.0                   0.0                   0.0                   0.0                   0.0                   0.0                   0.0                   0.0                   0.0                   0.0                   0.0                   0.0                   0.0                   0.0                   0.0                   1.0                   0.0                   0.0                   0.0                   0.0                     0.000000  \n",
       "                                                                                                                                                                                                                                                                                                                                                                                                                                                                                                                                                                                                                                                                                                                                                                                                                                                                                  0.0                   1.0                   0.0                   0.0                   0.0                     0.000000  \n",
       "                                                                                                                                                                                                                                                                                                                                                                                                                                                                                                                                                                                                                                                                                                                                                                                                                                                                                                        0.0                   1.0                   0.0                   0.0                     0.000000  \n",
       "                                                                                                                                                                                                                                                                                                                                                                                                                                                                                                                                                                                                                                                                                                                                                                                                                                                                                                                              0.0                   1.0                   0.0                     0.000000  \n",
       "                                                                                                                                                                                                                                                                                                                                                                                                                                                                                                                                                                                                                                                                                                                                                                                                                                                                                                                                                    0.0                   1.0                     0.000000  \n",
       "\n",
       "[78208 rows x 2 columns]"
      ]
     },
     "execution_count": 37,
     "metadata": {},
     "output_type": "execute_result"
    }
   ],
   "source": [
    "to_predict"
   ]
  },
  {
   "cell_type": "code",
   "execution_count": 23,
   "metadata": {},
   "outputs": [
    {
     "data": {
      "text/plain": [
       "mode_1    mode_2  mode_3  mode_4  mode_5  mode_6  mode_7  mode_8  purpose_hb_fr  purpose_hb_to  purpose_nhb  direction_1  direction_2  direction_3  direction_4  period_city  period_major  period_minor  period_town  period_village  at_0  at_1  at_2  at_3  at_4  at_5  at_6  at_7  at_8  at_9  at_10  at_11  triporiggor_b02id_0  triporiggor_b02id_2  triporiggor_b02id_5  triporiggor_b02id_9  triporiggor_b02id_15  triporiggor_b02id_23  triporiggor_b02id_32  triporiggor_b02id_43  triporiggor_b02id_56  triporiggor_b02id_71  triporiggor_b02id_88  triporiggor_b02id_106  triporiggor_b02id_127  triporiggor_b02id_149  triporiggor_b02id_174  triporiggor_b02id_200  triporiggor_b02id_229  triporiggor_b02id_260  triporiggor_b02id_292  triporiggor_b02id_327  triporiggor_b02id_365  triporiggor_b02id_404  triporiggor_b02id_446  triporiggor_b02id_489  triporiggor_b02id_535  triporiggor_b02id_584  triporiggor_b02id_634  triporiggor_b02id_687  triporiggor_b02id_742  triporiggor_b02id_800  triporiggor_b02id_860  triporiggor_b02id_922\n",
       "1.0       0.0     0.0     0.0     0.0     0.0     0.0     0.0     1.0            0.0            0.0          1.0          0.0          0.0          0.0          1.0          0.0           0.0           0.0          0.0             0.0   0.0   0.0   0.0   0.0   0.0   0.0   1.0   0.0   0.0   0.0    0.0    1.0                  0.0                  0.0                  0.0                  0.0                   0.0                   0.0                   0.0                   0.0                   0.0                   0.0                   0.0                    0.0                    0.0                    0.0                    0.0                    0.0                    0.0                    0.0                    0.0                    0.0                    0.0                    0.0                    0.0                    0.0                    0.0                    0.0                    0.0                    0.0                    0.0                    0.0                    0.0                                                               0.110546\n",
       "                                                                                                                                                                                                                                                                                                                 0.0                  1.0                  0.0                  0.0                  0.0                   0.0                   0.0                   0.0                   0.0                   0.0                   0.0                   0.0                    0.0                    0.0                    0.0                    0.0                    0.0                    0.0                    0.0                    0.0                    0.0                    0.0                    0.0                    0.0                    0.0                    0.0                    0.0                    0.0                    0.0                    0.0                    0.0                    0.0                                                                    0.0\n",
       "                                                                                                                                                                                                                                                                                                                                      0.0                  1.0                  0.0                  0.0                   0.0                   0.0                   0.0                   0.0                   0.0                   0.0                   0.0                    0.0                    0.0                    0.0                    0.0                    0.0                    0.0                    0.0                    0.0                    0.0                    0.0                    0.0                    0.0                    0.0                    0.0                    0.0                    0.0                    0.0                    0.0                    0.0                    0.0                                                               0.287931\n",
       "                                                                                                                                                                                                                                                                                                                                                           0.0                  1.0                  0.0                   0.0                   0.0                   0.0                   0.0                   0.0                   0.0                   0.0                    0.0                    0.0                    0.0                    0.0                    0.0                    0.0                    0.0                    0.0                    0.0                    0.0                    0.0                    0.0                    0.0                    0.0                    0.0                    0.0                    0.0                    0.0                    0.0                    0.0                                                               0.419618\n",
       "                                                                                                                                                                                                                                                                                                                                                                                0.0                  1.0                   0.0                   0.0                   0.0                   0.0                   0.0                   0.0                   0.0                    0.0                    0.0                    0.0                    0.0                    0.0                    0.0                    0.0                    0.0                    0.0                    0.0                    0.0                    0.0                    0.0                    0.0                    0.0                    0.0                    0.0                    0.0                    0.0                    0.0                                                               0.035945\n",
       "                                                                                                                                                                                                                                                                                                                                                                                                                                                                                                                                                                                                                                                                                                                                                                                                                                                                                                                                                                                                                                                                                          ...                        \n",
       "0.0       0.0     0.0     0.0     0.0     0.0     0.0     1.0     0.0            0.0            1.0          0.0          0.0          0.0          1.0          0.0          0.0           0.0           0.0          1.0             0.0   0.0   0.0   0.0   0.0   0.0   0.0   0.0   0.0   0.0   0.0    1.0    0.0                  0.0                  0.0                  0.0                  0.0                   0.0                   0.0                   0.0                   0.0                   0.0                   0.0                   0.0                    0.0                    0.0                    0.0                    0.0                    0.0                    0.0                    0.0                    0.0                    0.0                    0.0                    0.0                    0.0                    0.0                    0.0                    0.0                    0.0                    1.0                    0.0                    0.0                    0.0                                                                    0.0\n",
       "                                                                                                                                                                                                                                                                                                                                                                                                                                                                                                                                                                                                                                                                                                                                                                                                                                                                                                                                                                      0.0                    1.0                    0.0                    0.0                                                                    0.0\n",
       "                                                                                                                                                                                                                                                                                                                                                                                                                                                                                                                                                                                                                                                                                                                                                                                                                                                                                                                                                                                             0.0                    1.0                    0.0                                                                    0.0\n",
       "                                                                                                                                                                                                                                                                                                                                                                                                                                                                                                                                                                                                                                                                                                                                                                                                                                                                                                                                                                                                                    0.0                    1.0                                                                    0.0\n",
       "predcted                                                                                                                                                                                                                                                                                                                                                                                                                                                                                                                                                                                                                                                                                                                                                                                                                                                                                                                                                                                                                                                            [0.06833744020091631, 0.11754787118850593, 0.0...\n",
       "Name: norm_trips, Length: 78209, dtype: object"
      ]
     },
     "execution_count": 23,
     "metadata": {},
     "output_type": "execute_result"
    }
   ],
   "source": [
    "to_predict"
   ]
  },
  {
   "cell_type": "code",
   "execution_count": 19,
   "metadata": {},
   "outputs": [
    {
     "name": "stderr",
     "output_type": "stream",
     "text": [
      "c:\\Users\\Predator\\anaconda3\\envs\\NTS\\lib\\site-packages\\tables\\path.py:137: NaturalNameWarning: object name is a Python keyword: 'None'; you will not be able to use natural naming to access this object; using ``getattr()`` will still work, though\n",
      "  check_attribute_name(name)\n",
      "c:\\Users\\Predator\\anaconda3\\envs\\NTS\\lib\\site-packages\\tables\\attributeset.py:457: NaturalNameWarning: object name is not a valid Python identifier: 'axis1_nameband_(0, 1]'; it does not match the pattern ``^[a-zA-Z_][a-zA-Z0-9_]*$``; you will not be able to use natural naming to access this object; using ``getattr()`` will still work, though\n",
      "  check_attribute_name(name)\n",
      "c:\\Users\\Predator\\anaconda3\\envs\\NTS\\lib\\site-packages\\tables\\attributeset.py:457: NaturalNameWarning: object name is not a valid Python identifier: 'axis1_nameband_(1, 4]'; it does not match the pattern ``^[a-zA-Z_][a-zA-Z0-9_]*$``; you will not be able to use natural naming to access this object; using ``getattr()`` will still work, though\n",
      "  check_attribute_name(name)\n",
      "c:\\Users\\Predator\\anaconda3\\envs\\NTS\\lib\\site-packages\\tables\\attributeset.py:457: NaturalNameWarning: object name is not a valid Python identifier: 'axis1_nameband_(4, 9]'; it does not match the pattern ``^[a-zA-Z_][a-zA-Z0-9_]*$``; you will not be able to use natural naming to access this object; using ``getattr()`` will still work, though\n",
      "  check_attribute_name(name)\n",
      "c:\\Users\\Predator\\anaconda3\\envs\\NTS\\lib\\site-packages\\tables\\attributeset.py:457: NaturalNameWarning: object name is not a valid Python identifier: 'axis1_nameband_(9, 14]'; it does not match the pattern ``^[a-zA-Z_][a-zA-Z0-9_]*$``; you will not be able to use natural naming to access this object; using ``getattr()`` will still work, though\n",
      "  check_attribute_name(name)\n",
      "c:\\Users\\Predator\\anaconda3\\envs\\NTS\\lib\\site-packages\\tables\\attributeset.py:457: NaturalNameWarning: object name is not a valid Python identifier: 'axis1_nameband_(14, 22]'; it does not match the pattern ``^[a-zA-Z_][a-zA-Z0-9_]*$``; you will not be able to use natural naming to access this object; using ``getattr()`` will still work, though\n",
      "  check_attribute_name(name)\n",
      "c:\\Users\\Predator\\anaconda3\\envs\\NTS\\lib\\site-packages\\tables\\attributeset.py:457: NaturalNameWarning: object name is not a valid Python identifier: 'axis1_nameband_(22, 31]'; it does not match the pattern ``^[a-zA-Z_][a-zA-Z0-9_]*$``; you will not be able to use natural naming to access this object; using ``getattr()`` will still work, though\n",
      "  check_attribute_name(name)\n",
      "c:\\Users\\Predator\\anaconda3\\envs\\NTS\\lib\\site-packages\\tables\\attributeset.py:457: NaturalNameWarning: object name is not a valid Python identifier: 'axis1_nameband_(31, 41]'; it does not match the pattern ``^[a-zA-Z_][a-zA-Z0-9_]*$``; you will not be able to use natural naming to access this object; using ``getattr()`` will still work, though\n",
      "  check_attribute_name(name)\n",
      "c:\\Users\\Predator\\anaconda3\\envs\\NTS\\lib\\site-packages\\tables\\attributeset.py:457: NaturalNameWarning: object name is not a valid Python identifier: 'axis1_nameband_(41, 53]'; it does not match the pattern ``^[a-zA-Z_][a-zA-Z0-9_]*$``; you will not be able to use natural naming to access this object; using ``getattr()`` will still work, though\n",
      "  check_attribute_name(name)\n",
      "c:\\Users\\Predator\\anaconda3\\envs\\NTS\\lib\\site-packages\\tables\\attributeset.py:457: NaturalNameWarning: object name is not a valid Python identifier: 'axis1_nameband_(53, 68]'; it does not match the pattern ``^[a-zA-Z_][a-zA-Z0-9_]*$``; you will not be able to use natural naming to access this object; using ``getattr()`` will still work, though\n",
      "  check_attribute_name(name)\n",
      "c:\\Users\\Predator\\anaconda3\\envs\\NTS\\lib\\site-packages\\tables\\attributeset.py:457: NaturalNameWarning: object name is not a valid Python identifier: 'axis1_nameband_(68, 83]'; it does not match the pattern ``^[a-zA-Z_][a-zA-Z0-9_]*$``; you will not be able to use natural naming to access this object; using ``getattr()`` will still work, though\n",
      "  check_attribute_name(name)\n",
      "c:\\Users\\Predator\\anaconda3\\envs\\NTS\\lib\\site-packages\\tables\\attributeset.py:457: NaturalNameWarning: object name is not a valid Python identifier: 'axis1_nameband_(83, 101]'; it does not match the pattern ``^[a-zA-Z_][a-zA-Z0-9_]*$``; you will not be able to use natural naming to access this object; using ``getattr()`` will still work, though\n",
      "  check_attribute_name(name)\n",
      "c:\\Users\\Predator\\anaconda3\\envs\\NTS\\lib\\site-packages\\tables\\attributeset.py:457: NaturalNameWarning: object name is not a valid Python identifier: 'axis1_nameband_(101, 121]'; it does not match the pattern ``^[a-zA-Z_][a-zA-Z0-9_]*$``; you will not be able to use natural naming to access this object; using ``getattr()`` will still work, though\n",
      "  check_attribute_name(name)\n",
      "c:\\Users\\Predator\\anaconda3\\envs\\NTS\\lib\\site-packages\\tables\\attributeset.py:457: NaturalNameWarning: object name is not a valid Python identifier: 'axis1_nameband_(121, 142]'; it does not match the pattern ``^[a-zA-Z_][a-zA-Z0-9_]*$``; you will not be able to use natural naming to access this object; using ``getattr()`` will still work, though\n",
      "  check_attribute_name(name)\n",
      "c:\\Users\\Predator\\anaconda3\\envs\\NTS\\lib\\site-packages\\tables\\attributeset.py:457: NaturalNameWarning: object name is not a valid Python identifier: 'axis1_nameband_(142, 166]'; it does not match the pattern ``^[a-zA-Z_][a-zA-Z0-9_]*$``; you will not be able to use natural naming to access this object; using ``getattr()`` will still work, though\n",
      "  check_attribute_name(name)\n",
      "c:\\Users\\Predator\\anaconda3\\envs\\NTS\\lib\\site-packages\\tables\\attributeset.py:457: NaturalNameWarning: object name is not a valid Python identifier: 'axis1_nameband_(166, 191]'; it does not match the pattern ``^[a-zA-Z_][a-zA-Z0-9_]*$``; you will not be able to use natural naming to access this object; using ``getattr()`` will still work, though\n",
      "  check_attribute_name(name)\n",
      "c:\\Users\\Predator\\anaconda3\\envs\\NTS\\lib\\site-packages\\tables\\attributeset.py:457: NaturalNameWarning: object name is not a valid Python identifier: 'axis1_nameband_(191, 218]'; it does not match the pattern ``^[a-zA-Z_][a-zA-Z0-9_]*$``; you will not be able to use natural naming to access this object; using ``getattr()`` will still work, though\n",
      "  check_attribute_name(name)\n",
      "c:\\Users\\Predator\\anaconda3\\envs\\NTS\\lib\\site-packages\\tables\\attributeset.py:457: NaturalNameWarning: object name is not a valid Python identifier: 'axis1_nameband_(218, 248]'; it does not match the pattern ``^[a-zA-Z_][a-zA-Z0-9_]*$``; you will not be able to use natural naming to access this object; using ``getattr()`` will still work, though\n",
      "  check_attribute_name(name)\n",
      "c:\\Users\\Predator\\anaconda3\\envs\\NTS\\lib\\site-packages\\tables\\attributeset.py:457: NaturalNameWarning: object name is not a valid Python identifier: 'axis1_nameband_(248, 279]'; it does not match the pattern ``^[a-zA-Z_][a-zA-Z0-9_]*$``; you will not be able to use natural naming to access this object; using ``getattr()`` will still work, though\n",
      "  check_attribute_name(name)\n",
      "c:\\Users\\Predator\\anaconda3\\envs\\NTS\\lib\\site-packages\\tables\\attributeset.py:457: NaturalNameWarning: object name is not a valid Python identifier: 'axis1_nameband_(279, 312]'; it does not match the pattern ``^[a-zA-Z_][a-zA-Z0-9_]*$``; you will not be able to use natural naming to access this object; using ``getattr()`` will still work, though\n",
      "  check_attribute_name(name)\n",
      "c:\\Users\\Predator\\anaconda3\\envs\\NTS\\lib\\site-packages\\tables\\attributeset.py:457: NaturalNameWarning: object name is not a valid Python identifier: 'axis1_nameband_(312, 348]'; it does not match the pattern ``^[a-zA-Z_][a-zA-Z0-9_]*$``; you will not be able to use natural naming to access this object; using ``getattr()`` will still work, though\n",
      "  check_attribute_name(name)\n",
      "c:\\Users\\Predator\\anaconda3\\envs\\NTS\\lib\\site-packages\\tables\\attributeset.py:457: NaturalNameWarning: object name is not a valid Python identifier: 'axis1_nameband_(348, 385]'; it does not match the pattern ``^[a-zA-Z_][a-zA-Z0-9_]*$``; you will not be able to use natural naming to access this object; using ``getattr()`` will still work, though\n",
      "  check_attribute_name(name)\n",
      "c:\\Users\\Predator\\anaconda3\\envs\\NTS\\lib\\site-packages\\tables\\attributeset.py:457: NaturalNameWarning: object name is not a valid Python identifier: 'axis1_nameband_(385, 425]'; it does not match the pattern ``^[a-zA-Z_][a-zA-Z0-9_]*$``; you will not be able to use natural naming to access this object; using ``getattr()`` will still work, though\n",
      "  check_attribute_name(name)\n",
      "c:\\Users\\Predator\\anaconda3\\envs\\NTS\\lib\\site-packages\\tables\\attributeset.py:457: NaturalNameWarning: object name is not a valid Python identifier: 'axis1_nameband_(425, 467]'; it does not match the pattern ``^[a-zA-Z_][a-zA-Z0-9_]*$``; you will not be able to use natural naming to access this object; using ``getattr()`` will still work, though\n",
      "  check_attribute_name(name)\n",
      "c:\\Users\\Predator\\anaconda3\\envs\\NTS\\lib\\site-packages\\tables\\attributeset.py:457: NaturalNameWarning: object name is not a valid Python identifier: 'axis1_nameband_(467, 511]'; it does not match the pattern ``^[a-zA-Z_][a-zA-Z0-9_]*$``; you will not be able to use natural naming to access this object; using ``getattr()`` will still work, though\n",
      "  check_attribute_name(name)\n",
      "c:\\Users\\Predator\\anaconda3\\envs\\NTS\\lib\\site-packages\\tables\\attributeset.py:457: NaturalNameWarning: object name is not a valid Python identifier: 'axis1_nameband_(511, 557]'; it does not match the pattern ``^[a-zA-Z_][a-zA-Z0-9_]*$``; you will not be able to use natural naming to access this object; using ``getattr()`` will still work, though\n",
      "  check_attribute_name(name)\n",
      "c:\\Users\\Predator\\anaconda3\\envs\\NTS\\lib\\site-packages\\tables\\attributeset.py:457: NaturalNameWarning: object name is not a valid Python identifier: 'axis1_nameband_(557, 605]'; it does not match the pattern ``^[a-zA-Z_][a-zA-Z0-9_]*$``; you will not be able to use natural naming to access this object; using ``getattr()`` will still work, though\n",
      "  check_attribute_name(name)\n",
      "c:\\Users\\Predator\\anaconda3\\envs\\NTS\\lib\\site-packages\\tables\\attributeset.py:457: NaturalNameWarning: object name is not a valid Python identifier: 'axis1_nameband_(605, 655]'; it does not match the pattern ``^[a-zA-Z_][a-zA-Z0-9_]*$``; you will not be able to use natural naming to access this object; using ``getattr()`` will still work, though\n",
      "  check_attribute_name(name)\n",
      "c:\\Users\\Predator\\anaconda3\\envs\\NTS\\lib\\site-packages\\tables\\attributeset.py:457: NaturalNameWarning: object name is not a valid Python identifier: 'axis1_nameband_(655, 708]'; it does not match the pattern ``^[a-zA-Z_][a-zA-Z0-9_]*$``; you will not be able to use natural naming to access this object; using ``getattr()`` will still work, though\n",
      "  check_attribute_name(name)\n",
      "c:\\Users\\Predator\\anaconda3\\envs\\NTS\\lib\\site-packages\\tables\\attributeset.py:457: NaturalNameWarning: object name is not a valid Python identifier: 'axis1_nameband_(708, 763]'; it does not match the pattern ``^[a-zA-Z_][a-zA-Z0-9_]*$``; you will not be able to use natural naming to access this object; using ``getattr()`` will still work, though\n",
      "  check_attribute_name(name)\n",
      "c:\\Users\\Predator\\anaconda3\\envs\\NTS\\lib\\site-packages\\tables\\attributeset.py:457: NaturalNameWarning: object name is not a valid Python identifier: 'axis1_nameband_(763, 820]'; it does not match the pattern ``^[a-zA-Z_][a-zA-Z0-9_]*$``; you will not be able to use natural naming to access this object; using ``getattr()`` will still work, though\n",
      "  check_attribute_name(name)\n",
      "c:\\Users\\Predator\\anaconda3\\envs\\NTS\\lib\\site-packages\\tables\\attributeset.py:457: NaturalNameWarning: object name is not a valid Python identifier: 'axis1_nameband_(820, 879]'; it does not match the pattern ``^[a-zA-Z_][a-zA-Z0-9_]*$``; you will not be able to use natural naming to access this object; using ``getattr()`` will still work, though\n",
      "  check_attribute_name(name)\n",
      "c:\\Users\\Predator\\anaconda3\\envs\\NTS\\lib\\site-packages\\tables\\attributeset.py:457: NaturalNameWarning: object name is not a valid Python identifier: 'axis1_nameband_(879, 941]'; it does not match the pattern ``^[a-zA-Z_][a-zA-Z0-9_]*$``; you will not be able to use natural naming to access this object; using ``getattr()`` will still work, though\n",
      "  check_attribute_name(name)\n",
      "c:\\Users\\Predator\\anaconda3\\envs\\NTS\\lib\\site-packages\\tables\\attributeset.py:457: NaturalNameWarning: object name is not a valid Python identifier: 'axis1_nameband_(941, 1005]'; it does not match the pattern ``^[a-zA-Z_][a-zA-Z0-9_]*$``; you will not be able to use natural naming to access this object; using ``getattr()`` will still work, though\n",
      "  check_attribute_name(name)\n",
      "c:\\Users\\Predator\\anaconda3\\envs\\NTS\\lib\\site-packages\\tables\\attributeset.py:457: NaturalNameWarning: object name is not a valid Python identifier: 'axis1_nameband_(1005, 1071]'; it does not match the pattern ``^[a-zA-Z_][a-zA-Z0-9_]*$``; you will not be able to use natural naming to access this object; using ``getattr()`` will still work, though\n",
      "  check_attribute_name(name)\n",
      "c:\\Users\\Predator\\anaconda3\\envs\\NTS\\lib\\site-packages\\tables\\attributeset.py:457: NaturalNameWarning: object name is not a valid Python identifier: 'axis1_nameband_(1071, 1140]'; it does not match the pattern ``^[a-zA-Z_][a-zA-Z0-9_]*$``; you will not be able to use natural naming to access this object; using ``getattr()`` will still work, though\n",
      "  check_attribute_name(name)\n",
      "c:\\Users\\Predator\\anaconda3\\envs\\NTS\\lib\\site-packages\\tables\\attributeset.py:457: NaturalNameWarning: object name is not a valid Python identifier: 'axis1_nameband_(1140, 1210]'; it does not match the pattern ``^[a-zA-Z_][a-zA-Z0-9_]*$``; you will not be able to use natural naming to access this object; using ``getattr()`` will still work, though\n",
      "  check_attribute_name(name)\n",
      "c:\\Users\\Predator\\anaconda3\\envs\\NTS\\lib\\site-packages\\tables\\attributeset.py:457: NaturalNameWarning: object name is not a valid Python identifier: 'axis1_nameband_(1210, 1284]'; it does not match the pattern ``^[a-zA-Z_][a-zA-Z0-9_]*$``; you will not be able to use natural naming to access this object; using ``getattr()`` will still work, though\n",
      "  check_attribute_name(name)\n"
     ]
    }
   ],
   "source": [
    "data.to_hdf(r\"E:\\NTS\\analysis\\int\\test.h5\", key='None', complevel=3)"
   ]
  },
  {
   "cell_type": "code",
   "execution_count": 7,
   "metadata": {},
   "outputs": [
    {
     "data": {
      "text/plain": [
       "0.7423008001964295"
      ]
     },
     "execution_count": 7,
     "metadata": {},
     "output_type": "execute_result"
    }
   ],
   "source": [
    "score['test_score'].mean()"
   ]
  }
 ],
 "metadata": {
  "kernelspec": {
   "display_name": "NTS",
   "language": "python",
   "name": "python3"
  },
  "language_info": {
   "codemirror_mode": {
    "name": "ipython",
    "version": 3
   },
   "file_extension": ".py",
   "mimetype": "text/x-python",
   "name": "python",
   "nbconvert_exporter": "python",
   "pygments_lexer": "ipython3",
   "version": "3.10.13"
  }
 },
 "nbformat": 4,
 "nbformat_minor": 2
}
